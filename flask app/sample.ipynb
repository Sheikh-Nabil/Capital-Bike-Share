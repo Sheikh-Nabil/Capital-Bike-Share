{
 "metadata": {
  "language_info": {
   "codemirror_mode": {
    "name": "ipython",
    "version": 3
   },
   "file_extension": ".py",
   "mimetype": "text/x-python",
   "name": "python",
   "nbconvert_exporter": "python",
   "pygments_lexer": "ipython3",
   "version": "3.8.3-final"
  },
  "orig_nbformat": 2,
  "kernelspec": {
   "name": "python3",
   "display_name": "Python 3",
   "language": "python"
  }
 },
 "nbformat": 4,
 "nbformat_minor": 2,
 "cells": [
  {
   "cell_type": "code",
   "execution_count": 5,
   "metadata": {},
   "outputs": [],
   "source": [
    "from sklearn.model_selection import train_test_split\n",
    "from sklearn.ensemble import AdaBoostRegressor\n",
    "\n",
    "import pandas as pd\n",
    "import numpy as np\n",
    "\n",
    "import pickle"
   ]
  },
  {
   "cell_type": "code",
   "execution_count": 6,
   "metadata": {},
   "outputs": [
    {
     "output_type": "execute_result",
     "data": {
      "text/plain": [
       "       Unnamed: 0        date     month  hour holiday   weekday Member type  \\\n",
       "0               0  2018-01-01   January     0      No    Monday      Casual   \n",
       "1               1  2018-01-01   January     0      No    Monday      Member   \n",
       "2               2  2018-01-01   January     1      No    Monday      Casual   \n",
       "3               3  2018-01-01   January     1      No    Monday      Member   \n",
       "4               4  2018-01-01   January     2      No    Monday      Casual   \n",
       "...           ...         ...       ...   ...     ...       ...         ...   \n",
       "50889       50889  2020-12-31  December    21      No  Thursday      member   \n",
       "50890       50890  2020-12-31  December    22      No  Thursday      casual   \n",
       "50891       50891  2020-12-31  December    22      No  Thursday      member   \n",
       "50892       50892  2020-12-31  December    23      No  Thursday      casual   \n",
       "50893       50893  2020-12-31  December    23      No  Thursday      member   \n",
       "\n",
       "       count  \n",
       "0          6  \n",
       "1         28  \n",
       "2         11  \n",
       "3         38  \n",
       "4          7  \n",
       "...      ...  \n",
       "50889     29  \n",
       "50890     25  \n",
       "50891     31  \n",
       "50892     32  \n",
       "50893     21  \n",
       "\n",
       "[50894 rows x 8 columns]"
      ],
      "text/html": "<div>\n<style scoped>\n    .dataframe tbody tr th:only-of-type {\n        vertical-align: middle;\n    }\n\n    .dataframe tbody tr th {\n        vertical-align: top;\n    }\n\n    .dataframe thead th {\n        text-align: right;\n    }\n</style>\n<table border=\"1\" class=\"dataframe\">\n  <thead>\n    <tr style=\"text-align: right;\">\n      <th></th>\n      <th>Unnamed: 0</th>\n      <th>date</th>\n      <th>month</th>\n      <th>hour</th>\n      <th>holiday</th>\n      <th>weekday</th>\n      <th>Member type</th>\n      <th>count</th>\n    </tr>\n  </thead>\n  <tbody>\n    <tr>\n      <th>0</th>\n      <td>0</td>\n      <td>2018-01-01</td>\n      <td>January</td>\n      <td>0</td>\n      <td>No</td>\n      <td>Monday</td>\n      <td>Casual</td>\n      <td>6</td>\n    </tr>\n    <tr>\n      <th>1</th>\n      <td>1</td>\n      <td>2018-01-01</td>\n      <td>January</td>\n      <td>0</td>\n      <td>No</td>\n      <td>Monday</td>\n      <td>Member</td>\n      <td>28</td>\n    </tr>\n    <tr>\n      <th>2</th>\n      <td>2</td>\n      <td>2018-01-01</td>\n      <td>January</td>\n      <td>1</td>\n      <td>No</td>\n      <td>Monday</td>\n      <td>Casual</td>\n      <td>11</td>\n    </tr>\n    <tr>\n      <th>3</th>\n      <td>3</td>\n      <td>2018-01-01</td>\n      <td>January</td>\n      <td>1</td>\n      <td>No</td>\n      <td>Monday</td>\n      <td>Member</td>\n      <td>38</td>\n    </tr>\n    <tr>\n      <th>4</th>\n      <td>4</td>\n      <td>2018-01-01</td>\n      <td>January</td>\n      <td>2</td>\n      <td>No</td>\n      <td>Monday</td>\n      <td>Casual</td>\n      <td>7</td>\n    </tr>\n    <tr>\n      <th>...</th>\n      <td>...</td>\n      <td>...</td>\n      <td>...</td>\n      <td>...</td>\n      <td>...</td>\n      <td>...</td>\n      <td>...</td>\n      <td>...</td>\n    </tr>\n    <tr>\n      <th>50889</th>\n      <td>50889</td>\n      <td>2020-12-31</td>\n      <td>December</td>\n      <td>21</td>\n      <td>No</td>\n      <td>Thursday</td>\n      <td>member</td>\n      <td>29</td>\n    </tr>\n    <tr>\n      <th>50890</th>\n      <td>50890</td>\n      <td>2020-12-31</td>\n      <td>December</td>\n      <td>22</td>\n      <td>No</td>\n      <td>Thursday</td>\n      <td>casual</td>\n      <td>25</td>\n    </tr>\n    <tr>\n      <th>50891</th>\n      <td>50891</td>\n      <td>2020-12-31</td>\n      <td>December</td>\n      <td>22</td>\n      <td>No</td>\n      <td>Thursday</td>\n      <td>member</td>\n      <td>31</td>\n    </tr>\n    <tr>\n      <th>50892</th>\n      <td>50892</td>\n      <td>2020-12-31</td>\n      <td>December</td>\n      <td>23</td>\n      <td>No</td>\n      <td>Thursday</td>\n      <td>casual</td>\n      <td>32</td>\n    </tr>\n    <tr>\n      <th>50893</th>\n      <td>50893</td>\n      <td>2020-12-31</td>\n      <td>December</td>\n      <td>23</td>\n      <td>No</td>\n      <td>Thursday</td>\n      <td>member</td>\n      <td>21</td>\n    </tr>\n  </tbody>\n</table>\n<p>50894 rows × 8 columns</p>\n</div>"
     },
     "metadata": {},
     "execution_count": 6
    }
   ],
   "source": [
    "## read the file\n",
    "\n",
    "df=pd.read_csv(r'C:\\Users\\Sheikh Nabil\\Anaconda\\Desktop\\capital-bike-share\\flask app\\final_18_19_20.csv')\n",
    "df"
   ]
  },
  {
   "cell_type": "code",
   "execution_count": 7,
   "metadata": {},
   "outputs": [],
   "source": [
    "df = df[['hour','holiday', 'weekday','count']]"
   ]
  },
  {
   "cell_type": "code",
   "execution_count": 8,
   "metadata": {},
   "outputs": [
    {
     "output_type": "stream",
     "name": "stderr",
     "text": [
      "C:\\Anaconda2\\lib\\site-packages\\pandas\\core\\generic.py:5168: SettingWithCopyWarning: \nA value is trying to be set on a copy of a slice from a DataFrame.\nTry using .loc[row_indexer,col_indexer] = value instead\n\nSee the caveats in the documentation: https://pandas.pydata.org/pandas-docs/stable/user_guide/indexing.html#returning-a-view-versus-a-copy\n  self[name] = value\n"
     ]
    }
   ],
   "source": [
    "df.holiday = df.holiday.astype('category')\n",
    "df.weekday = df.weekday.astype('category')\n"
   ]
  },
  {
   "cell_type": "code",
   "execution_count": 9,
   "metadata": {},
   "outputs": [],
   "source": [
    "df = pd.get_dummies(df)"
   ]
  },
  {
   "cell_type": "code",
   "execution_count": 10,
   "metadata": {},
   "outputs": [
    {
     "output_type": "execute_result",
     "data": {
      "text/plain": [
       "       hour  count  holiday_No  holiday_Yes  weekday_Friday  weekday_Monday  \\\n",
       "0         0      6           1            0               0               1   \n",
       "1         0     28           1            0               0               1   \n",
       "2         1     11           1            0               0               1   \n",
       "3         1     38           1            0               0               1   \n",
       "4         2      7           1            0               0               1   \n",
       "...     ...    ...         ...          ...             ...             ...   \n",
       "50889    21     29           1            0               0               0   \n",
       "50890    22     25           1            0               0               0   \n",
       "50891    22     31           1            0               0               0   \n",
       "50892    23     32           1            0               0               0   \n",
       "50893    23     21           1            0               0               0   \n",
       "\n",
       "       weekday_Saturday  weekday_Sunday  weekday_Thursday  weekday_Tuesday  \\\n",
       "0                     0               0                 0                0   \n",
       "1                     0               0                 0                0   \n",
       "2                     0               0                 0                0   \n",
       "3                     0               0                 0                0   \n",
       "4                     0               0                 0                0   \n",
       "...                 ...             ...               ...              ...   \n",
       "50889                 0               0                 1                0   \n",
       "50890                 0               0                 1                0   \n",
       "50891                 0               0                 1                0   \n",
       "50892                 0               0                 1                0   \n",
       "50893                 0               0                 1                0   \n",
       "\n",
       "       weekday_Wednesday  \n",
       "0                      0  \n",
       "1                      0  \n",
       "2                      0  \n",
       "3                      0  \n",
       "4                      0  \n",
       "...                  ...  \n",
       "50889                  0  \n",
       "50890                  0  \n",
       "50891                  0  \n",
       "50892                  0  \n",
       "50893                  0  \n",
       "\n",
       "[50894 rows x 11 columns]"
      ],
      "text/html": "<div>\n<style scoped>\n    .dataframe tbody tr th:only-of-type {\n        vertical-align: middle;\n    }\n\n    .dataframe tbody tr th {\n        vertical-align: top;\n    }\n\n    .dataframe thead th {\n        text-align: right;\n    }\n</style>\n<table border=\"1\" class=\"dataframe\">\n  <thead>\n    <tr style=\"text-align: right;\">\n      <th></th>\n      <th>hour</th>\n      <th>count</th>\n      <th>holiday_No</th>\n      <th>holiday_Yes</th>\n      <th>weekday_Friday</th>\n      <th>weekday_Monday</th>\n      <th>weekday_Saturday</th>\n      <th>weekday_Sunday</th>\n      <th>weekday_Thursday</th>\n      <th>weekday_Tuesday</th>\n      <th>weekday_Wednesday</th>\n    </tr>\n  </thead>\n  <tbody>\n    <tr>\n      <th>0</th>\n      <td>0</td>\n      <td>6</td>\n      <td>1</td>\n      <td>0</td>\n      <td>0</td>\n      <td>1</td>\n      <td>0</td>\n      <td>0</td>\n      <td>0</td>\n      <td>0</td>\n      <td>0</td>\n    </tr>\n    <tr>\n      <th>1</th>\n      <td>0</td>\n      <td>28</td>\n      <td>1</td>\n      <td>0</td>\n      <td>0</td>\n      <td>1</td>\n      <td>0</td>\n      <td>0</td>\n      <td>0</td>\n      <td>0</td>\n      <td>0</td>\n    </tr>\n    <tr>\n      <th>2</th>\n      <td>1</td>\n      <td>11</td>\n      <td>1</td>\n      <td>0</td>\n      <td>0</td>\n      <td>1</td>\n      <td>0</td>\n      <td>0</td>\n      <td>0</td>\n      <td>0</td>\n      <td>0</td>\n    </tr>\n    <tr>\n      <th>3</th>\n      <td>1</td>\n      <td>38</td>\n      <td>1</td>\n      <td>0</td>\n      <td>0</td>\n      <td>1</td>\n      <td>0</td>\n      <td>0</td>\n      <td>0</td>\n      <td>0</td>\n      <td>0</td>\n    </tr>\n    <tr>\n      <th>4</th>\n      <td>2</td>\n      <td>7</td>\n      <td>1</td>\n      <td>0</td>\n      <td>0</td>\n      <td>1</td>\n      <td>0</td>\n      <td>0</td>\n      <td>0</td>\n      <td>0</td>\n      <td>0</td>\n    </tr>\n    <tr>\n      <th>...</th>\n      <td>...</td>\n      <td>...</td>\n      <td>...</td>\n      <td>...</td>\n      <td>...</td>\n      <td>...</td>\n      <td>...</td>\n      <td>...</td>\n      <td>...</td>\n      <td>...</td>\n      <td>...</td>\n    </tr>\n    <tr>\n      <th>50889</th>\n      <td>21</td>\n      <td>29</td>\n      <td>1</td>\n      <td>0</td>\n      <td>0</td>\n      <td>0</td>\n      <td>0</td>\n      <td>0</td>\n      <td>1</td>\n      <td>0</td>\n      <td>0</td>\n    </tr>\n    <tr>\n      <th>50890</th>\n      <td>22</td>\n      <td>25</td>\n      <td>1</td>\n      <td>0</td>\n      <td>0</td>\n      <td>0</td>\n      <td>0</td>\n      <td>0</td>\n      <td>1</td>\n      <td>0</td>\n      <td>0</td>\n    </tr>\n    <tr>\n      <th>50891</th>\n      <td>22</td>\n      <td>31</td>\n      <td>1</td>\n      <td>0</td>\n      <td>0</td>\n      <td>0</td>\n      <td>0</td>\n      <td>0</td>\n      <td>1</td>\n      <td>0</td>\n      <td>0</td>\n    </tr>\n    <tr>\n      <th>50892</th>\n      <td>23</td>\n      <td>32</td>\n      <td>1</td>\n      <td>0</td>\n      <td>0</td>\n      <td>0</td>\n      <td>0</td>\n      <td>0</td>\n      <td>1</td>\n      <td>0</td>\n      <td>0</td>\n    </tr>\n    <tr>\n      <th>50893</th>\n      <td>23</td>\n      <td>21</td>\n      <td>1</td>\n      <td>0</td>\n      <td>0</td>\n      <td>0</td>\n      <td>0</td>\n      <td>0</td>\n      <td>1</td>\n      <td>0</td>\n      <td>0</td>\n    </tr>\n  </tbody>\n</table>\n<p>50894 rows × 11 columns</p>\n</div>"
     },
     "metadata": {},
     "execution_count": 10
    }
   ],
   "source": [
    "df"
   ]
  },
  {
   "cell_type": "code",
   "execution_count": 6,
   "metadata": {},
   "outputs": [],
   "source": [
    "## modelling\n",
    "\n",
    "x = df.drop(columns = ['count'])\n",
    "y = df['count']"
   ]
  },
  {
   "cell_type": "code",
   "execution_count": 7,
   "metadata": {},
   "outputs": [],
   "source": [
    "ada = AdaBoostRegressor()"
   ]
  },
  {
   "cell_type": "code",
   "execution_count": 8,
   "metadata": {},
   "outputs": [
    {
     "output_type": "execute_result",
     "data": {
      "text/plain": [
       "AdaBoostRegressor()"
      ]
     },
     "metadata": {},
     "execution_count": 8
    }
   ],
   "source": [
    "ada.fit(x,y)"
   ]
  },
  {
   "cell_type": "code",
   "execution_count": 9,
   "metadata": {},
   "outputs": [],
   "source": [
    "pickle.dump(ada, open('model.pkl','wb'))"
   ]
  },
  {
   "cell_type": "code",
   "execution_count": null,
   "metadata": {},
   "outputs": [],
   "source": []
  }
 ]
}