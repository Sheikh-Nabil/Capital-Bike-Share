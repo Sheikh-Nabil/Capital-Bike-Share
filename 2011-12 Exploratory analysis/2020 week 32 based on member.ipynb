{
 "metadata": {
  "language_info": {
   "codemirror_mode": {
    "name": "ipython",
    "version": 3
   },
   "file_extension": ".py",
   "mimetype": "text/x-python",
   "name": "python",
   "nbconvert_exporter": "python",
   "pygments_lexer": "ipython3",
   "version": "3.8.3-final"
  },
  "orig_nbformat": 2,
  "kernelspec": {
   "name": "python3",
   "display_name": "Python 3",
   "language": "python"
  }
 },
 "nbformat": 4,
 "nbformat_minor": 2,
 "cells": [
  {
   "cell_type": "code",
   "execution_count": 4,
   "metadata": {},
   "outputs": [],
   "source": [
    "import pandas as pd\n",
    "import numpy as np\n",
    "import statistics as st\n",
    "import matplotlib.pyplot as plt\n",
    "import seaborn as sns\n",
    "from sklearn.model_selection import train_test_split\n",
    "from collections import Counter\n",
    "from sklearn.preprocessing import StandardScaler\n",
    "from sklearn.preprocessing import LabelEncoder\n",
    "from sklearn.linear_model import LogisticRegression\n",
    "from sklearn.model_selection import cross_val_predict\n",
    "from sklearn import metrics\n",
    "from sklearn.metrics import accuracy_score\n",
    "from sklearn.metrics import confusion_matrix\n",
    "from sklearn.metrics import classification_report\n",
    "from sklearn.model_selection import cross_val_score\n",
    "from sklearn import svm\n",
    "from sklearn.neighbors import KNeighborsClassifier\n",
    "from sklearn.model_selection import GridSearchCV\n",
    "from pylab import savefig\n",
    "%matplotlib inline\n",
    "from sklearn.tree import DecisionTreeClassifier\n",
    "from sklearn.tree import plot_tree\n",
    "import datetime"
   ]
  },
  {
   "cell_type": "code",
   "execution_count": 5,
   "metadata": {},
   "outputs": [],
   "source": [
    "data = pd.read_csv(r\"C:\\Users\\Sheikh Nabil\\Anaconda\\Desktop\\capital-bike-share\\Data Wrangling\\2020\\202011-capitalbikeshare-tripdata.csv\")"
   ]
  },
  {
   "cell_type": "code",
   "execution_count": 6,
   "metadata": {},
   "outputs": [
    {
     "output_type": "execute_result",
     "data": {
      "text/plain": [
       "                 ride_id  rideable_type           started_at  \\\n",
       "0       EAF58AB55323A15E    docked_bike  2020-11-02 18:41:34   \n",
       "1       DBD5BC10E1F0C019    docked_bike  2020-11-07 17:24:13   \n",
       "2       64776A208DCED86D    docked_bike  2020-11-20 13:28:22   \n",
       "3       B870C5DC875CA903    docked_bike  2020-11-25 16:02:34   \n",
       "4       98DEA3EA1A85634F    docked_bike  2020-11-21 10:55:34   \n",
       "...                  ...            ...                  ...   \n",
       "175430  D98EF4B739FF3C36  electric_bike  2020-11-10 14:42:04   \n",
       "175431  CB1A83E00AC9C520    docked_bike  2020-11-09 17:38:48   \n",
       "175432  9CE3A41A63C76D00    docked_bike  2020-11-21 14:57:29   \n",
       "175433  A02C91053ACCD678    docked_bike  2020-11-21 14:57:08   \n",
       "175434  A6CF0741A49CCBB2    docked_bike  2020-11-08 13:02:21   \n",
       "\n",
       "                   ended_at                  start_station_name  \\\n",
       "0       2020-11-02 18:49:04    17th & K St NW / Farragut Square   \n",
       "1       2020-11-07 17:24:48            New Jersey Ave & F St NW   \n",
       "2       2020-11-20 14:19:26                    Lincoln Memorial   \n",
       "3       2020-11-25 16:31:31                    Lincoln Memorial   \n",
       "4       2020-11-21 11:12:45       Metro Center / 12th & G St NW   \n",
       "...                     ...                                 ...   \n",
       "175430  2020-11-10 14:59:03                      Gravelly Point   \n",
       "175431  2020-11-09 17:59:35  Reston Town Center Transit Station   \n",
       "175432  2020-11-21 15:20:51                      Gravelly Point   \n",
       "175433  2020-11-21 15:20:51                      Gravelly Point   \n",
       "175434  2020-11-08 13:27:26                Van Ness Metro / UDC   \n",
       "\n",
       "        start_station_id                    end_station_name  end_station_id  \\\n",
       "0                31233.0                      15th & P St NW         31201.0   \n",
       "1                31655.0            New Jersey Ave & F St NW         31655.0   \n",
       "2                31258.0       15th St & Constitution Ave NW         31321.0   \n",
       "3                31258.0       15th St & Constitution Ave NW         31321.0   \n",
       "4                31230.0                       2nd & G St NE         31639.0   \n",
       "...                  ...                                 ...             ...   \n",
       "175430           31064.0                       4th & M St SW         31108.0   \n",
       "175431           32214.0  Town Center Pkwy & Bowman Towne Dr         32210.0   \n",
       "175432           31064.0                       4th & M St SW         31108.0   \n",
       "175433           31064.0                       4th & M St SW         31108.0   \n",
       "175434           31300.0          M St & Pennsylvania Ave NW         31246.0   \n",
       "\n",
       "        start_lat  start_lng    end_lat    end_lng member_casual  \n",
       "0       38.902061 -77.038322  38.909868 -77.034421        casual  \n",
       "1       38.897108 -77.011616  38.897108 -77.011616        member  \n",
       "2       38.888255 -77.049437  38.892244 -77.033234        casual  \n",
       "3       38.888255 -77.049436  38.892244 -77.033234        casual  \n",
       "4       38.898364 -77.027869  38.899670 -77.003666        casual  \n",
       "...           ...        ...        ...        ...           ...  \n",
       "175430  38.865020 -77.039472  38.876597 -77.017833        member  \n",
       "175431  38.957037 -77.359718  38.962524 -77.361902        casual  \n",
       "175432  38.865029 -77.039511  38.876697 -77.017898        member  \n",
       "175433  38.865029 -77.039511  38.876697 -77.017898        member  \n",
       "175434  38.944551 -77.063896  38.905126 -77.056887        casual  \n",
       "\n",
       "[175435 rows x 13 columns]"
      ],
      "text/html": "<div>\n<style scoped>\n    .dataframe tbody tr th:only-of-type {\n        vertical-align: middle;\n    }\n\n    .dataframe tbody tr th {\n        vertical-align: top;\n    }\n\n    .dataframe thead th {\n        text-align: right;\n    }\n</style>\n<table border=\"1\" class=\"dataframe\">\n  <thead>\n    <tr style=\"text-align: right;\">\n      <th></th>\n      <th>ride_id</th>\n      <th>rideable_type</th>\n      <th>started_at</th>\n      <th>ended_at</th>\n      <th>start_station_name</th>\n      <th>start_station_id</th>\n      <th>end_station_name</th>\n      <th>end_station_id</th>\n      <th>start_lat</th>\n      <th>start_lng</th>\n      <th>end_lat</th>\n      <th>end_lng</th>\n      <th>member_casual</th>\n    </tr>\n  </thead>\n  <tbody>\n    <tr>\n      <th>0</th>\n      <td>EAF58AB55323A15E</td>\n      <td>docked_bike</td>\n      <td>2020-11-02 18:41:34</td>\n      <td>2020-11-02 18:49:04</td>\n      <td>17th &amp; K St NW / Farragut Square</td>\n      <td>31233.0</td>\n      <td>15th &amp; P St NW</td>\n      <td>31201.0</td>\n      <td>38.902061</td>\n      <td>-77.038322</td>\n      <td>38.909868</td>\n      <td>-77.034421</td>\n      <td>casual</td>\n    </tr>\n    <tr>\n      <th>1</th>\n      <td>DBD5BC10E1F0C019</td>\n      <td>docked_bike</td>\n      <td>2020-11-07 17:24:13</td>\n      <td>2020-11-07 17:24:48</td>\n      <td>New Jersey Ave &amp; F St NW</td>\n      <td>31655.0</td>\n      <td>New Jersey Ave &amp; F St NW</td>\n      <td>31655.0</td>\n      <td>38.897108</td>\n      <td>-77.011616</td>\n      <td>38.897108</td>\n      <td>-77.011616</td>\n      <td>member</td>\n    </tr>\n    <tr>\n      <th>2</th>\n      <td>64776A208DCED86D</td>\n      <td>docked_bike</td>\n      <td>2020-11-20 13:28:22</td>\n      <td>2020-11-20 14:19:26</td>\n      <td>Lincoln Memorial</td>\n      <td>31258.0</td>\n      <td>15th St &amp; Constitution Ave NW</td>\n      <td>31321.0</td>\n      <td>38.888255</td>\n      <td>-77.049437</td>\n      <td>38.892244</td>\n      <td>-77.033234</td>\n      <td>casual</td>\n    </tr>\n    <tr>\n      <th>3</th>\n      <td>B870C5DC875CA903</td>\n      <td>docked_bike</td>\n      <td>2020-11-25 16:02:34</td>\n      <td>2020-11-25 16:31:31</td>\n      <td>Lincoln Memorial</td>\n      <td>31258.0</td>\n      <td>15th St &amp; Constitution Ave NW</td>\n      <td>31321.0</td>\n      <td>38.888255</td>\n      <td>-77.049436</td>\n      <td>38.892244</td>\n      <td>-77.033234</td>\n      <td>casual</td>\n    </tr>\n    <tr>\n      <th>4</th>\n      <td>98DEA3EA1A85634F</td>\n      <td>docked_bike</td>\n      <td>2020-11-21 10:55:34</td>\n      <td>2020-11-21 11:12:45</td>\n      <td>Metro Center / 12th &amp; G St NW</td>\n      <td>31230.0</td>\n      <td>2nd &amp; G St NE</td>\n      <td>31639.0</td>\n      <td>38.898364</td>\n      <td>-77.027869</td>\n      <td>38.899670</td>\n      <td>-77.003666</td>\n      <td>casual</td>\n    </tr>\n    <tr>\n      <th>...</th>\n      <td>...</td>\n      <td>...</td>\n      <td>...</td>\n      <td>...</td>\n      <td>...</td>\n      <td>...</td>\n      <td>...</td>\n      <td>...</td>\n      <td>...</td>\n      <td>...</td>\n      <td>...</td>\n      <td>...</td>\n      <td>...</td>\n    </tr>\n    <tr>\n      <th>175430</th>\n      <td>D98EF4B739FF3C36</td>\n      <td>electric_bike</td>\n      <td>2020-11-10 14:42:04</td>\n      <td>2020-11-10 14:59:03</td>\n      <td>Gravelly Point</td>\n      <td>31064.0</td>\n      <td>4th &amp; M St SW</td>\n      <td>31108.0</td>\n      <td>38.865020</td>\n      <td>-77.039472</td>\n      <td>38.876597</td>\n      <td>-77.017833</td>\n      <td>member</td>\n    </tr>\n    <tr>\n      <th>175431</th>\n      <td>CB1A83E00AC9C520</td>\n      <td>docked_bike</td>\n      <td>2020-11-09 17:38:48</td>\n      <td>2020-11-09 17:59:35</td>\n      <td>Reston Town Center Transit Station</td>\n      <td>32214.0</td>\n      <td>Town Center Pkwy &amp; Bowman Towne Dr</td>\n      <td>32210.0</td>\n      <td>38.957037</td>\n      <td>-77.359718</td>\n      <td>38.962524</td>\n      <td>-77.361902</td>\n      <td>casual</td>\n    </tr>\n    <tr>\n      <th>175432</th>\n      <td>9CE3A41A63C76D00</td>\n      <td>docked_bike</td>\n      <td>2020-11-21 14:57:29</td>\n      <td>2020-11-21 15:20:51</td>\n      <td>Gravelly Point</td>\n      <td>31064.0</td>\n      <td>4th &amp; M St SW</td>\n      <td>31108.0</td>\n      <td>38.865029</td>\n      <td>-77.039511</td>\n      <td>38.876697</td>\n      <td>-77.017898</td>\n      <td>member</td>\n    </tr>\n    <tr>\n      <th>175433</th>\n      <td>A02C91053ACCD678</td>\n      <td>docked_bike</td>\n      <td>2020-11-21 14:57:08</td>\n      <td>2020-11-21 15:20:51</td>\n      <td>Gravelly Point</td>\n      <td>31064.0</td>\n      <td>4th &amp; M St SW</td>\n      <td>31108.0</td>\n      <td>38.865029</td>\n      <td>-77.039511</td>\n      <td>38.876697</td>\n      <td>-77.017898</td>\n      <td>member</td>\n    </tr>\n    <tr>\n      <th>175434</th>\n      <td>A6CF0741A49CCBB2</td>\n      <td>docked_bike</td>\n      <td>2020-11-08 13:02:21</td>\n      <td>2020-11-08 13:27:26</td>\n      <td>Van Ness Metro / UDC</td>\n      <td>31300.0</td>\n      <td>M St &amp; Pennsylvania Ave NW</td>\n      <td>31246.0</td>\n      <td>38.944551</td>\n      <td>-77.063896</td>\n      <td>38.905126</td>\n      <td>-77.056887</td>\n      <td>casual</td>\n    </tr>\n  </tbody>\n</table>\n<p>175435 rows × 13 columns</p>\n</div>"
     },
     "metadata": {},
     "execution_count": 6
    }
   ],
   "source": [
    "data"
   ]
  },
  {
   "cell_type": "code",
   "execution_count": 7,
   "metadata": {},
   "outputs": [
    {
     "output_type": "execute_result",
     "data": {
      "text/plain": [
       "                 ride_id  rideable_type          started_at  \\\n",
       "0       EAF58AB55323A15E    docked_bike 2020-11-02 18:41:34   \n",
       "1       DBD5BC10E1F0C019    docked_bike 2020-11-07 17:24:13   \n",
       "2       64776A208DCED86D    docked_bike 2020-11-20 13:28:22   \n",
       "3       B870C5DC875CA903    docked_bike 2020-11-25 16:02:34   \n",
       "4       98DEA3EA1A85634F    docked_bike 2020-11-21 10:55:34   \n",
       "...                  ...            ...                 ...   \n",
       "175430  D98EF4B739FF3C36  electric_bike 2020-11-10 14:42:04   \n",
       "175431  CB1A83E00AC9C520    docked_bike 2020-11-09 17:38:48   \n",
       "175432  9CE3A41A63C76D00    docked_bike 2020-11-21 14:57:29   \n",
       "175433  A02C91053ACCD678    docked_bike 2020-11-21 14:57:08   \n",
       "175434  A6CF0741A49CCBB2    docked_bike 2020-11-08 13:02:21   \n",
       "\n",
       "                   ended_at                  start_station_name  \\\n",
       "0       2020-11-02 18:49:04    17th & K St NW / Farragut Square   \n",
       "1       2020-11-07 17:24:48            New Jersey Ave & F St NW   \n",
       "2       2020-11-20 14:19:26                    Lincoln Memorial   \n",
       "3       2020-11-25 16:31:31                    Lincoln Memorial   \n",
       "4       2020-11-21 11:12:45       Metro Center / 12th & G St NW   \n",
       "...                     ...                                 ...   \n",
       "175430  2020-11-10 14:59:03                      Gravelly Point   \n",
       "175431  2020-11-09 17:59:35  Reston Town Center Transit Station   \n",
       "175432  2020-11-21 15:20:51                      Gravelly Point   \n",
       "175433  2020-11-21 15:20:51                      Gravelly Point   \n",
       "175434  2020-11-08 13:27:26                Van Ness Metro / UDC   \n",
       "\n",
       "        start_station_id                    end_station_name  end_station_id  \\\n",
       "0                31233.0                      15th & P St NW         31201.0   \n",
       "1                31655.0            New Jersey Ave & F St NW         31655.0   \n",
       "2                31258.0       15th St & Constitution Ave NW         31321.0   \n",
       "3                31258.0       15th St & Constitution Ave NW         31321.0   \n",
       "4                31230.0                       2nd & G St NE         31639.0   \n",
       "...                  ...                                 ...             ...   \n",
       "175430           31064.0                       4th & M St SW         31108.0   \n",
       "175431           32214.0  Town Center Pkwy & Bowman Towne Dr         32210.0   \n",
       "175432           31064.0                       4th & M St SW         31108.0   \n",
       "175433           31064.0                       4th & M St SW         31108.0   \n",
       "175434           31300.0          M St & Pennsylvania Ave NW         31246.0   \n",
       "\n",
       "        start_lat  start_lng    end_lat    end_lng member_casual        date  \\\n",
       "0       38.902061 -77.038322  38.909868 -77.034421        casual  2020-11-02   \n",
       "1       38.897108 -77.011616  38.897108 -77.011616        member  2020-11-07   \n",
       "2       38.888255 -77.049437  38.892244 -77.033234        casual  2020-11-20   \n",
       "3       38.888255 -77.049436  38.892244 -77.033234        casual  2020-11-25   \n",
       "4       38.898364 -77.027869  38.899670 -77.003666        casual  2020-11-21   \n",
       "...           ...        ...        ...        ...           ...         ...   \n",
       "175430  38.865020 -77.039472  38.876597 -77.017833        member  2020-11-10   \n",
       "175431  38.957037 -77.359718  38.962524 -77.361902        casual  2020-11-09   \n",
       "175432  38.865029 -77.039511  38.876697 -77.017898        member  2020-11-21   \n",
       "175433  38.865029 -77.039511  38.876697 -77.017898        member  2020-11-21   \n",
       "175434  38.944551 -77.063896  38.905126 -77.056887        casual  2020-11-08   \n",
       "\n",
       "            time  \n",
       "0       18:41:34  \n",
       "1       17:24:13  \n",
       "2       13:28:22  \n",
       "3       16:02:34  \n",
       "4       10:55:34  \n",
       "...          ...  \n",
       "175430  14:42:04  \n",
       "175431  17:38:48  \n",
       "175432  14:57:29  \n",
       "175433  14:57:08  \n",
       "175434  13:02:21  \n",
       "\n",
       "[175435 rows x 15 columns]"
      ],
      "text/html": "<div>\n<style scoped>\n    .dataframe tbody tr th:only-of-type {\n        vertical-align: middle;\n    }\n\n    .dataframe tbody tr th {\n        vertical-align: top;\n    }\n\n    .dataframe thead th {\n        text-align: right;\n    }\n</style>\n<table border=\"1\" class=\"dataframe\">\n  <thead>\n    <tr style=\"text-align: right;\">\n      <th></th>\n      <th>ride_id</th>\n      <th>rideable_type</th>\n      <th>started_at</th>\n      <th>ended_at</th>\n      <th>start_station_name</th>\n      <th>start_station_id</th>\n      <th>end_station_name</th>\n      <th>end_station_id</th>\n      <th>start_lat</th>\n      <th>start_lng</th>\n      <th>end_lat</th>\n      <th>end_lng</th>\n      <th>member_casual</th>\n      <th>date</th>\n      <th>time</th>\n    </tr>\n  </thead>\n  <tbody>\n    <tr>\n      <th>0</th>\n      <td>EAF58AB55323A15E</td>\n      <td>docked_bike</td>\n      <td>2020-11-02 18:41:34</td>\n      <td>2020-11-02 18:49:04</td>\n      <td>17th &amp; K St NW / Farragut Square</td>\n      <td>31233.0</td>\n      <td>15th &amp; P St NW</td>\n      <td>31201.0</td>\n      <td>38.902061</td>\n      <td>-77.038322</td>\n      <td>38.909868</td>\n      <td>-77.034421</td>\n      <td>casual</td>\n      <td>2020-11-02</td>\n      <td>18:41:34</td>\n    </tr>\n    <tr>\n      <th>1</th>\n      <td>DBD5BC10E1F0C019</td>\n      <td>docked_bike</td>\n      <td>2020-11-07 17:24:13</td>\n      <td>2020-11-07 17:24:48</td>\n      <td>New Jersey Ave &amp; F St NW</td>\n      <td>31655.0</td>\n      <td>New Jersey Ave &amp; F St NW</td>\n      <td>31655.0</td>\n      <td>38.897108</td>\n      <td>-77.011616</td>\n      <td>38.897108</td>\n      <td>-77.011616</td>\n      <td>member</td>\n      <td>2020-11-07</td>\n      <td>17:24:13</td>\n    </tr>\n    <tr>\n      <th>2</th>\n      <td>64776A208DCED86D</td>\n      <td>docked_bike</td>\n      <td>2020-11-20 13:28:22</td>\n      <td>2020-11-20 14:19:26</td>\n      <td>Lincoln Memorial</td>\n      <td>31258.0</td>\n      <td>15th St &amp; Constitution Ave NW</td>\n      <td>31321.0</td>\n      <td>38.888255</td>\n      <td>-77.049437</td>\n      <td>38.892244</td>\n      <td>-77.033234</td>\n      <td>casual</td>\n      <td>2020-11-20</td>\n      <td>13:28:22</td>\n    </tr>\n    <tr>\n      <th>3</th>\n      <td>B870C5DC875CA903</td>\n      <td>docked_bike</td>\n      <td>2020-11-25 16:02:34</td>\n      <td>2020-11-25 16:31:31</td>\n      <td>Lincoln Memorial</td>\n      <td>31258.0</td>\n      <td>15th St &amp; Constitution Ave NW</td>\n      <td>31321.0</td>\n      <td>38.888255</td>\n      <td>-77.049436</td>\n      <td>38.892244</td>\n      <td>-77.033234</td>\n      <td>casual</td>\n      <td>2020-11-25</td>\n      <td>16:02:34</td>\n    </tr>\n    <tr>\n      <th>4</th>\n      <td>98DEA3EA1A85634F</td>\n      <td>docked_bike</td>\n      <td>2020-11-21 10:55:34</td>\n      <td>2020-11-21 11:12:45</td>\n      <td>Metro Center / 12th &amp; G St NW</td>\n      <td>31230.0</td>\n      <td>2nd &amp; G St NE</td>\n      <td>31639.0</td>\n      <td>38.898364</td>\n      <td>-77.027869</td>\n      <td>38.899670</td>\n      <td>-77.003666</td>\n      <td>casual</td>\n      <td>2020-11-21</td>\n      <td>10:55:34</td>\n    </tr>\n    <tr>\n      <th>...</th>\n      <td>...</td>\n      <td>...</td>\n      <td>...</td>\n      <td>...</td>\n      <td>...</td>\n      <td>...</td>\n      <td>...</td>\n      <td>...</td>\n      <td>...</td>\n      <td>...</td>\n      <td>...</td>\n      <td>...</td>\n      <td>...</td>\n      <td>...</td>\n      <td>...</td>\n    </tr>\n    <tr>\n      <th>175430</th>\n      <td>D98EF4B739FF3C36</td>\n      <td>electric_bike</td>\n      <td>2020-11-10 14:42:04</td>\n      <td>2020-11-10 14:59:03</td>\n      <td>Gravelly Point</td>\n      <td>31064.0</td>\n      <td>4th &amp; M St SW</td>\n      <td>31108.0</td>\n      <td>38.865020</td>\n      <td>-77.039472</td>\n      <td>38.876597</td>\n      <td>-77.017833</td>\n      <td>member</td>\n      <td>2020-11-10</td>\n      <td>14:42:04</td>\n    </tr>\n    <tr>\n      <th>175431</th>\n      <td>CB1A83E00AC9C520</td>\n      <td>docked_bike</td>\n      <td>2020-11-09 17:38:48</td>\n      <td>2020-11-09 17:59:35</td>\n      <td>Reston Town Center Transit Station</td>\n      <td>32214.0</td>\n      <td>Town Center Pkwy &amp; Bowman Towne Dr</td>\n      <td>32210.0</td>\n      <td>38.957037</td>\n      <td>-77.359718</td>\n      <td>38.962524</td>\n      <td>-77.361902</td>\n      <td>casual</td>\n      <td>2020-11-09</td>\n      <td>17:38:48</td>\n    </tr>\n    <tr>\n      <th>175432</th>\n      <td>9CE3A41A63C76D00</td>\n      <td>docked_bike</td>\n      <td>2020-11-21 14:57:29</td>\n      <td>2020-11-21 15:20:51</td>\n      <td>Gravelly Point</td>\n      <td>31064.0</td>\n      <td>4th &amp; M St SW</td>\n      <td>31108.0</td>\n      <td>38.865029</td>\n      <td>-77.039511</td>\n      <td>38.876697</td>\n      <td>-77.017898</td>\n      <td>member</td>\n      <td>2020-11-21</td>\n      <td>14:57:29</td>\n    </tr>\n    <tr>\n      <th>175433</th>\n      <td>A02C91053ACCD678</td>\n      <td>docked_bike</td>\n      <td>2020-11-21 14:57:08</td>\n      <td>2020-11-21 15:20:51</td>\n      <td>Gravelly Point</td>\n      <td>31064.0</td>\n      <td>4th &amp; M St SW</td>\n      <td>31108.0</td>\n      <td>38.865029</td>\n      <td>-77.039511</td>\n      <td>38.876697</td>\n      <td>-77.017898</td>\n      <td>member</td>\n      <td>2020-11-21</td>\n      <td>14:57:08</td>\n    </tr>\n    <tr>\n      <th>175434</th>\n      <td>A6CF0741A49CCBB2</td>\n      <td>docked_bike</td>\n      <td>2020-11-08 13:02:21</td>\n      <td>2020-11-08 13:27:26</td>\n      <td>Van Ness Metro / UDC</td>\n      <td>31300.0</td>\n      <td>M St &amp; Pennsylvania Ave NW</td>\n      <td>31246.0</td>\n      <td>38.944551</td>\n      <td>-77.063896</td>\n      <td>38.905126</td>\n      <td>-77.056887</td>\n      <td>casual</td>\n      <td>2020-11-08</td>\n      <td>13:02:21</td>\n    </tr>\n  </tbody>\n</table>\n<p>175435 rows × 15 columns</p>\n</div>"
     },
     "metadata": {},
     "execution_count": 7
    }
   ],
   "source": [
    "data['started_at'] = pd.to_datetime(data['started_at'])\n",
    "\n",
    "data['date'] = data['started_at'].dt.date\n",
    "\n",
    "data['time'] = data['started_at'].dt.time\n",
    "data"
   ]
  },
  {
   "cell_type": "code",
   "execution_count": 8,
   "metadata": {},
   "outputs": [
    {
     "output_type": "execute_result",
     "data": {
      "text/plain": [
       "member    101504\n",
       "casual     73931\n",
       "Name: member_casual, dtype: int64"
      ]
     },
     "metadata": {},
     "execution_count": 8
    }
   ],
   "source": [
    "data['member_casual'].value_counts()"
   ]
  },
  {
   "cell_type": "code",
   "execution_count": 9,
   "metadata": {},
   "outputs": [
    {
     "output_type": "execute_result",
     "data": {
      "text/plain": [
       "ride_id                       object\n",
       "rideable_type                 object\n",
       "started_at            datetime64[ns]\n",
       "ended_at                      object\n",
       "start_station_name            object\n",
       "start_station_id             float64\n",
       "end_station_name              object\n",
       "end_station_id               float64\n",
       "start_lat                    float64\n",
       "start_lng                    float64\n",
       "end_lat                      float64\n",
       "end_lng                      float64\n",
       "member_casual                 object\n",
       "date                  datetime64[ns]\n",
       "time                          object\n",
       "dtype: object"
      ]
     },
     "metadata": {},
     "execution_count": 9
    }
   ],
   "source": [
    "data['date'] = pd.to_datetime(data['date'])\n",
    "data.dtypes"
   ]
  },
  {
   "cell_type": "code",
   "execution_count": 10,
   "metadata": {},
   "outputs": [
    {
     "output_type": "stream",
     "name": "stdout",
     "text": [
      "RangeIndex(start=0, stop=175435, step=1)\n"
     ]
    }
   ],
   "source": [
    "print(data.index)"
   ]
  },
  {
   "cell_type": "code",
   "execution_count": null,
   "metadata": {},
   "outputs": [],
   "source": []
  },
  {
   "cell_type": "code",
   "execution_count": 11,
   "metadata": {},
   "outputs": [
    {
     "output_type": "execute_result",
     "data": {
      "text/plain": [
       "15th & P St NW                  1856\n",
       "New Hampshire Ave & T St NW     1843\n",
       "1st & M St NE                   1608\n",
       "14th & V St NW                  1559\n",
       "Jefferson Dr & 14th St SW       1551\n",
       "                                ... \n",
       "19th & Savannah St SE              1\n",
       "Ridge Rd Community Center          1\n",
       "Fern St & Army Navy Dr             1\n",
       "Reston Pkwy & Spectrum Dr          1\n",
       "Jones Branch & Westbranch Dr       1\n",
       "Name: end_station_name, Length: 613, dtype: int64"
      ]
     },
     "metadata": {},
     "execution_count": 11
    }
   ],
   "source": [
    "dt = data['end_station_name'].value_counts()\n",
    "dt"
   ]
  },
  {
   "cell_type": "code",
   "execution_count": 12,
   "metadata": {},
   "outputs": [
    {
     "output_type": "execute_result",
     "data": {
      "text/plain": [
       "15th & P St NW                                           1856\n",
       "New Hampshire Ave & T St NW                              1843\n",
       "1st & M St NE                                            1608\n",
       "14th & V St NW                                           1559\n",
       "Jefferson Dr & 14th St SW                                1551\n",
       "Henry Bacon Dr & Lincoln Memorial Circle NW              1504\n",
       "Lincoln Memorial                                         1492\n",
       "4th St & Madison Dr NW                                   1446\n",
       "8th & O St NW                                            1311\n",
       "15th & W St NW                                           1306\n",
       "11th & M St NW                                           1293\n",
       "Massachusetts Ave & Dupont Circle NW                     1280\n",
       "4th & M St SW                                            1276\n",
       "14th & R St NW                                           1261\n",
       "New Hampshire Ave & Ward Pl NW                           1256\n",
       "17th & Corcoran St NW                                    1254\n",
       "3rd & M St NE                                            1237\n",
       "5th & K St NW                                            1231\n",
       "15th St & Constitution Ave NW                            1223\n",
       "Thomas Circle                                            1157\n",
       "Columbus Circle / Union Station                          1152\n",
       "6th & H St NE                                            1105\n",
       "23rd & M St NW                                           1103\n",
       "1st & K St SE                                            1089\n",
       "14th & Irving St NW                                      1074\n",
       "Smithsonian-National Mall / Jefferson Dr & 12th St SW    1058\n",
       "14th & Rhode Island Ave NW                               1044\n",
       "Eastern Market Metro / Pennsylvania Ave & 8th St SE      1019\n",
       "7th & F St NW / National Portrait Gallery                1007\n",
       "M St & Pennsylvania Ave NW                               1004\n",
       "Name: end_station_name, dtype: int64"
      ]
     },
     "metadata": {},
     "execution_count": 12
    }
   ],
   "source": [
    "dt.head(30)"
   ]
  },
  {
   "cell_type": "code",
   "execution_count": 13,
   "metadata": {},
   "outputs": [
    {
     "output_type": "execute_result",
     "data": {
      "text/plain": [
       "ride_id                       object\n",
       "rideable_type                 object\n",
       "started_at            datetime64[ns]\n",
       "ended_at                      object\n",
       "start_station_name            object\n",
       "start_station_id             float64\n",
       "end_station_name              object\n",
       "end_station_id               float64\n",
       "start_lat                    float64\n",
       "start_lng                    float64\n",
       "end_lat                      float64\n",
       "end_lng                      float64\n",
       "member_casual                 object\n",
       "date                  datetime64[ns]\n",
       "time                          object\n",
       "dtype: object"
      ]
     },
     "metadata": {},
     "execution_count": 13
    }
   ],
   "source": [
    "data.dtypes"
   ]
  },
  {
   "cell_type": "code",
   "execution_count": 14,
   "metadata": {},
   "outputs": [
    {
     "output_type": "stream",
     "name": "stdout",
     "text": [
      "<class 'pandas.core.frame.DataFrame'>\nRangeIndex: 175435 entries, 0 to 175434\nData columns (total 15 columns):\n #   Column              Non-Null Count   Dtype         \n---  ------              --------------   -----         \n 0   ride_id             175435 non-null  object        \n 1   rideable_type       175435 non-null  object        \n 2   started_at          175435 non-null  datetime64[ns]\n 3   ended_at            175435 non-null  object        \n 4   start_station_name  160325 non-null  object        \n 5   start_station_id    160325 non-null  float64       \n 6   end_station_name    158773 non-null  object        \n 7   end_station_id      158773 non-null  float64       \n 8   start_lat           175435 non-null  float64       \n 9   start_lng           175435 non-null  float64       \n 10  end_lat             174813 non-null  float64       \n 11  end_lng             174813 non-null  float64       \n 12  member_casual       175435 non-null  object        \n 13  date                175435 non-null  datetime64[ns]\n 14  time                175435 non-null  object        \ndtypes: datetime64[ns](2), float64(6), object(7)\nmemory usage: 20.1+ MB\n"
     ]
    }
   ],
   "source": [
    "data.info()"
   ]
  },
  {
   "cell_type": "code",
   "execution_count": 15,
   "metadata": {},
   "outputs": [
    {
     "output_type": "execute_result",
     "data": {
      "text/plain": [
       "ride_id                   0\n",
       "rideable_type             0\n",
       "started_at                0\n",
       "ended_at                  0\n",
       "start_station_name    15110\n",
       "start_station_id      15110\n",
       "end_station_name      16662\n",
       "end_station_id        16662\n",
       "start_lat                 0\n",
       "start_lng                 0\n",
       "end_lat                 622\n",
       "end_lng                 622\n",
       "member_casual             0\n",
       "date                      0\n",
       "time                      0\n",
       "dtype: int64"
      ]
     },
     "metadata": {},
     "execution_count": 15
    }
   ],
   "source": [
    "data.isnull().sum()"
   ]
  },
  {
   "cell_type": "code",
   "execution_count": 16,
   "metadata": {},
   "outputs": [
    {
     "output_type": "stream",
     "name": "stderr",
     "text": [
      "<ipython-input-16-c1d31c5a6d20>:1: FutureWarning: Series.dt.weekofyear and Series.dt.week have been deprecated.  Please use Series.dt.isocalendar().week instead.\n  data['Week_Number'] = data['date'].dt.week\n"
     ]
    },
    {
     "output_type": "execute_result",
     "data": {
      "text/plain": [
       "                 ride_id  rideable_type          started_at  \\\n",
       "0       EAF58AB55323A15E    docked_bike 2020-11-02 18:41:34   \n",
       "1       DBD5BC10E1F0C019    docked_bike 2020-11-07 17:24:13   \n",
       "2       64776A208DCED86D    docked_bike 2020-11-20 13:28:22   \n",
       "3       B870C5DC875CA903    docked_bike 2020-11-25 16:02:34   \n",
       "4       98DEA3EA1A85634F    docked_bike 2020-11-21 10:55:34   \n",
       "...                  ...            ...                 ...   \n",
       "175430  D98EF4B739FF3C36  electric_bike 2020-11-10 14:42:04   \n",
       "175431  CB1A83E00AC9C520    docked_bike 2020-11-09 17:38:48   \n",
       "175432  9CE3A41A63C76D00    docked_bike 2020-11-21 14:57:29   \n",
       "175433  A02C91053ACCD678    docked_bike 2020-11-21 14:57:08   \n",
       "175434  A6CF0741A49CCBB2    docked_bike 2020-11-08 13:02:21   \n",
       "\n",
       "                   ended_at                  start_station_name  \\\n",
       "0       2020-11-02 18:49:04    17th & K St NW / Farragut Square   \n",
       "1       2020-11-07 17:24:48            New Jersey Ave & F St NW   \n",
       "2       2020-11-20 14:19:26                    Lincoln Memorial   \n",
       "3       2020-11-25 16:31:31                    Lincoln Memorial   \n",
       "4       2020-11-21 11:12:45       Metro Center / 12th & G St NW   \n",
       "...                     ...                                 ...   \n",
       "175430  2020-11-10 14:59:03                      Gravelly Point   \n",
       "175431  2020-11-09 17:59:35  Reston Town Center Transit Station   \n",
       "175432  2020-11-21 15:20:51                      Gravelly Point   \n",
       "175433  2020-11-21 15:20:51                      Gravelly Point   \n",
       "175434  2020-11-08 13:27:26                Van Ness Metro / UDC   \n",
       "\n",
       "        start_station_id                    end_station_name  end_station_id  \\\n",
       "0                31233.0                      15th & P St NW         31201.0   \n",
       "1                31655.0            New Jersey Ave & F St NW         31655.0   \n",
       "2                31258.0       15th St & Constitution Ave NW         31321.0   \n",
       "3                31258.0       15th St & Constitution Ave NW         31321.0   \n",
       "4                31230.0                       2nd & G St NE         31639.0   \n",
       "...                  ...                                 ...             ...   \n",
       "175430           31064.0                       4th & M St SW         31108.0   \n",
       "175431           32214.0  Town Center Pkwy & Bowman Towne Dr         32210.0   \n",
       "175432           31064.0                       4th & M St SW         31108.0   \n",
       "175433           31064.0                       4th & M St SW         31108.0   \n",
       "175434           31300.0          M St & Pennsylvania Ave NW         31246.0   \n",
       "\n",
       "        start_lat  start_lng    end_lat    end_lng member_casual       date  \\\n",
       "0       38.902061 -77.038322  38.909868 -77.034421        casual 2020-11-02   \n",
       "1       38.897108 -77.011616  38.897108 -77.011616        member 2020-11-07   \n",
       "2       38.888255 -77.049437  38.892244 -77.033234        casual 2020-11-20   \n",
       "3       38.888255 -77.049436  38.892244 -77.033234        casual 2020-11-25   \n",
       "4       38.898364 -77.027869  38.899670 -77.003666        casual 2020-11-21   \n",
       "...           ...        ...        ...        ...           ...        ...   \n",
       "175430  38.865020 -77.039472  38.876597 -77.017833        member 2020-11-10   \n",
       "175431  38.957037 -77.359718  38.962524 -77.361902        casual 2020-11-09   \n",
       "175432  38.865029 -77.039511  38.876697 -77.017898        member 2020-11-21   \n",
       "175433  38.865029 -77.039511  38.876697 -77.017898        member 2020-11-21   \n",
       "175434  38.944551 -77.063896  38.905126 -77.056887        casual 2020-11-08   \n",
       "\n",
       "            time  Week_Number  \n",
       "0       18:41:34           45  \n",
       "1       17:24:13           45  \n",
       "2       13:28:22           47  \n",
       "3       16:02:34           48  \n",
       "4       10:55:34           47  \n",
       "...          ...          ...  \n",
       "175430  14:42:04           46  \n",
       "175431  17:38:48           46  \n",
       "175432  14:57:29           47  \n",
       "175433  14:57:08           47  \n",
       "175434  13:02:21           45  \n",
       "\n",
       "[175435 rows x 16 columns]"
      ],
      "text/html": "<div>\n<style scoped>\n    .dataframe tbody tr th:only-of-type {\n        vertical-align: middle;\n    }\n\n    .dataframe tbody tr th {\n        vertical-align: top;\n    }\n\n    .dataframe thead th {\n        text-align: right;\n    }\n</style>\n<table border=\"1\" class=\"dataframe\">\n  <thead>\n    <tr style=\"text-align: right;\">\n      <th></th>\n      <th>ride_id</th>\n      <th>rideable_type</th>\n      <th>started_at</th>\n      <th>ended_at</th>\n      <th>start_station_name</th>\n      <th>start_station_id</th>\n      <th>end_station_name</th>\n      <th>end_station_id</th>\n      <th>start_lat</th>\n      <th>start_lng</th>\n      <th>end_lat</th>\n      <th>end_lng</th>\n      <th>member_casual</th>\n      <th>date</th>\n      <th>time</th>\n      <th>Week_Number</th>\n    </tr>\n  </thead>\n  <tbody>\n    <tr>\n      <th>0</th>\n      <td>EAF58AB55323A15E</td>\n      <td>docked_bike</td>\n      <td>2020-11-02 18:41:34</td>\n      <td>2020-11-02 18:49:04</td>\n      <td>17th &amp; K St NW / Farragut Square</td>\n      <td>31233.0</td>\n      <td>15th &amp; P St NW</td>\n      <td>31201.0</td>\n      <td>38.902061</td>\n      <td>-77.038322</td>\n      <td>38.909868</td>\n      <td>-77.034421</td>\n      <td>casual</td>\n      <td>2020-11-02</td>\n      <td>18:41:34</td>\n      <td>45</td>\n    </tr>\n    <tr>\n      <th>1</th>\n      <td>DBD5BC10E1F0C019</td>\n      <td>docked_bike</td>\n      <td>2020-11-07 17:24:13</td>\n      <td>2020-11-07 17:24:48</td>\n      <td>New Jersey Ave &amp; F St NW</td>\n      <td>31655.0</td>\n      <td>New Jersey Ave &amp; F St NW</td>\n      <td>31655.0</td>\n      <td>38.897108</td>\n      <td>-77.011616</td>\n      <td>38.897108</td>\n      <td>-77.011616</td>\n      <td>member</td>\n      <td>2020-11-07</td>\n      <td>17:24:13</td>\n      <td>45</td>\n    </tr>\n    <tr>\n      <th>2</th>\n      <td>64776A208DCED86D</td>\n      <td>docked_bike</td>\n      <td>2020-11-20 13:28:22</td>\n      <td>2020-11-20 14:19:26</td>\n      <td>Lincoln Memorial</td>\n      <td>31258.0</td>\n      <td>15th St &amp; Constitution Ave NW</td>\n      <td>31321.0</td>\n      <td>38.888255</td>\n      <td>-77.049437</td>\n      <td>38.892244</td>\n      <td>-77.033234</td>\n      <td>casual</td>\n      <td>2020-11-20</td>\n      <td>13:28:22</td>\n      <td>47</td>\n    </tr>\n    <tr>\n      <th>3</th>\n      <td>B870C5DC875CA903</td>\n      <td>docked_bike</td>\n      <td>2020-11-25 16:02:34</td>\n      <td>2020-11-25 16:31:31</td>\n      <td>Lincoln Memorial</td>\n      <td>31258.0</td>\n      <td>15th St &amp; Constitution Ave NW</td>\n      <td>31321.0</td>\n      <td>38.888255</td>\n      <td>-77.049436</td>\n      <td>38.892244</td>\n      <td>-77.033234</td>\n      <td>casual</td>\n      <td>2020-11-25</td>\n      <td>16:02:34</td>\n      <td>48</td>\n    </tr>\n    <tr>\n      <th>4</th>\n      <td>98DEA3EA1A85634F</td>\n      <td>docked_bike</td>\n      <td>2020-11-21 10:55:34</td>\n      <td>2020-11-21 11:12:45</td>\n      <td>Metro Center / 12th &amp; G St NW</td>\n      <td>31230.0</td>\n      <td>2nd &amp; G St NE</td>\n      <td>31639.0</td>\n      <td>38.898364</td>\n      <td>-77.027869</td>\n      <td>38.899670</td>\n      <td>-77.003666</td>\n      <td>casual</td>\n      <td>2020-11-21</td>\n      <td>10:55:34</td>\n      <td>47</td>\n    </tr>\n    <tr>\n      <th>...</th>\n      <td>...</td>\n      <td>...</td>\n      <td>...</td>\n      <td>...</td>\n      <td>...</td>\n      <td>...</td>\n      <td>...</td>\n      <td>...</td>\n      <td>...</td>\n      <td>...</td>\n      <td>...</td>\n      <td>...</td>\n      <td>...</td>\n      <td>...</td>\n      <td>...</td>\n      <td>...</td>\n    </tr>\n    <tr>\n      <th>175430</th>\n      <td>D98EF4B739FF3C36</td>\n      <td>electric_bike</td>\n      <td>2020-11-10 14:42:04</td>\n      <td>2020-11-10 14:59:03</td>\n      <td>Gravelly Point</td>\n      <td>31064.0</td>\n      <td>4th &amp; M St SW</td>\n      <td>31108.0</td>\n      <td>38.865020</td>\n      <td>-77.039472</td>\n      <td>38.876597</td>\n      <td>-77.017833</td>\n      <td>member</td>\n      <td>2020-11-10</td>\n      <td>14:42:04</td>\n      <td>46</td>\n    </tr>\n    <tr>\n      <th>175431</th>\n      <td>CB1A83E00AC9C520</td>\n      <td>docked_bike</td>\n      <td>2020-11-09 17:38:48</td>\n      <td>2020-11-09 17:59:35</td>\n      <td>Reston Town Center Transit Station</td>\n      <td>32214.0</td>\n      <td>Town Center Pkwy &amp; Bowman Towne Dr</td>\n      <td>32210.0</td>\n      <td>38.957037</td>\n      <td>-77.359718</td>\n      <td>38.962524</td>\n      <td>-77.361902</td>\n      <td>casual</td>\n      <td>2020-11-09</td>\n      <td>17:38:48</td>\n      <td>46</td>\n    </tr>\n    <tr>\n      <th>175432</th>\n      <td>9CE3A41A63C76D00</td>\n      <td>docked_bike</td>\n      <td>2020-11-21 14:57:29</td>\n      <td>2020-11-21 15:20:51</td>\n      <td>Gravelly Point</td>\n      <td>31064.0</td>\n      <td>4th &amp; M St SW</td>\n      <td>31108.0</td>\n      <td>38.865029</td>\n      <td>-77.039511</td>\n      <td>38.876697</td>\n      <td>-77.017898</td>\n      <td>member</td>\n      <td>2020-11-21</td>\n      <td>14:57:29</td>\n      <td>47</td>\n    </tr>\n    <tr>\n      <th>175433</th>\n      <td>A02C91053ACCD678</td>\n      <td>docked_bike</td>\n      <td>2020-11-21 14:57:08</td>\n      <td>2020-11-21 15:20:51</td>\n      <td>Gravelly Point</td>\n      <td>31064.0</td>\n      <td>4th &amp; M St SW</td>\n      <td>31108.0</td>\n      <td>38.865029</td>\n      <td>-77.039511</td>\n      <td>38.876697</td>\n      <td>-77.017898</td>\n      <td>member</td>\n      <td>2020-11-21</td>\n      <td>14:57:08</td>\n      <td>47</td>\n    </tr>\n    <tr>\n      <th>175434</th>\n      <td>A6CF0741A49CCBB2</td>\n      <td>docked_bike</td>\n      <td>2020-11-08 13:02:21</td>\n      <td>2020-11-08 13:27:26</td>\n      <td>Van Ness Metro / UDC</td>\n      <td>31300.0</td>\n      <td>M St &amp; Pennsylvania Ave NW</td>\n      <td>31246.0</td>\n      <td>38.944551</td>\n      <td>-77.063896</td>\n      <td>38.905126</td>\n      <td>-77.056887</td>\n      <td>casual</td>\n      <td>2020-11-08</td>\n      <td>13:02:21</td>\n      <td>45</td>\n    </tr>\n  </tbody>\n</table>\n<p>175435 rows × 16 columns</p>\n</div>"
     },
     "metadata": {},
     "execution_count": 16
    }
   ],
   "source": [
    "data['Week_Number'] = data['date'].dt.week\n",
    "data"
   ]
  },
  {
   "cell_type": "code",
   "execution_count": 17,
   "metadata": {},
   "outputs": [
    {
     "output_type": "execute_result",
     "data": {
      "text/plain": [
       "Timestamp('2020-11-01 00:00:00')"
      ]
     },
     "metadata": {},
     "execution_count": 17
    }
   ],
   "source": [
    "data['date'].min()"
   ]
  },
  {
   "cell_type": "code",
   "execution_count": 18,
   "metadata": {},
   "outputs": [
    {
     "output_type": "execute_result",
     "data": {
      "text/plain": [
       "                 ride_id  rideable_type          started_at  \\\n",
       "3       B870C5DC875CA903    docked_bike 2020-11-25 16:02:34   \n",
       "16      A894ADB87D7F8138    docked_bike 2020-11-23 00:33:32   \n",
       "27      807753A54E6DEF87    docked_bike 2020-11-26 15:35:27   \n",
       "39      8C60D3DDB7DD7A98    docked_bike 2020-11-23 15:56:10   \n",
       "41      343A469556B17DF8    docked_bike 2020-11-29 16:20:31   \n",
       "...                  ...            ...                 ...   \n",
       "175415  AEF729E5C833E3B6    docked_bike 2020-11-26 14:03:09   \n",
       "175420  542988D884151DDA    docked_bike 2020-11-24 07:31:03   \n",
       "175424  19A69E471A0359A1    docked_bike 2020-11-25 07:30:45   \n",
       "175428  80A9FA800D2B2F19  electric_bike 2020-11-29 15:08:56   \n",
       "175429  FAEE5EB8F209FC3E  electric_bike 2020-11-24 15:20:23   \n",
       "\n",
       "                   ended_at                start_station_name  \\\n",
       "3       2020-11-25 16:31:31                  Lincoln Memorial   \n",
       "16      2020-11-23 01:16:56                  Lincoln Memorial   \n",
       "27      2020-11-26 16:06:03                  Lincoln Memorial   \n",
       "39      2020-11-23 16:38:30                  Lincoln Memorial   \n",
       "41      2020-11-29 17:11:47          8th & East Capitol St NE   \n",
       "...                     ...                               ...   \n",
       "175415  2020-11-26 14:14:03                    Gravelly Point   \n",
       "175420  2020-11-24 07:35:48  King St Metro North / Cameron St   \n",
       "175424  2020-11-25 07:35:28  King St Metro North / Cameron St   \n",
       "175428  2020-11-29 15:33:46              Van Ness Metro / UDC   \n",
       "175429  2020-11-24 15:38:49                    Gravelly Point   \n",
       "\n",
       "        start_station_id               end_station_name  end_station_id  \\\n",
       "3                31258.0  15th St & Constitution Ave NW         31321.0   \n",
       "16               31258.0                 17th & G St NW         31277.0   \n",
       "27               31258.0         4th St & Madison Dr NW         31288.0   \n",
       "39               31258.0          USDA / 12th & C St SW         31217.0   \n",
       "41               31629.0       4th & East Capitol St NE         31618.0   \n",
       "...                  ...                            ...             ...   \n",
       "175415           31064.0         Crystal Dr & 20th St S         31002.0   \n",
       "175420           31098.0              Braddock Rd Metro         31047.0   \n",
       "175424           31098.0              Braddock Rd Metro         31047.0   \n",
       "175428           31300.0     M St & Pennsylvania Ave NW         31246.0   \n",
       "175429           31064.0                  4th & M St SW         31108.0   \n",
       "\n",
       "        start_lat  start_lng    end_lat    end_lng member_casual       date  \\\n",
       "3       38.888255 -77.049436  38.892244 -77.033234        casual 2020-11-25   \n",
       "16      38.888255 -77.049437  38.898283 -77.039732        casual 2020-11-23   \n",
       "27      38.888255 -77.049436  38.890496 -77.017246        casual 2020-11-26   \n",
       "39      38.888255 -77.049437  38.886277 -77.028242        casual 2020-11-23   \n",
       "41      38.889988 -76.995193  38.889955 -77.000349        casual 2020-11-29   \n",
       "...           ...        ...        ...        ...           ...        ...   \n",
       "175415  38.865029 -77.039511  38.856425 -77.049232        casual 2020-11-26   \n",
       "175420  38.807040 -77.059817  38.814577 -77.052808        member 2020-11-24   \n",
       "175424  38.807040 -77.059817  38.814577 -77.052808        member 2020-11-25   \n",
       "175428  38.944547 -77.063900  38.905089 -77.056939        member 2020-11-29   \n",
       "175429  38.865052 -77.039541  38.876847 -77.017848        casual 2020-11-24   \n",
       "\n",
       "            time  Week_Number  \n",
       "3       16:02:34           48  \n",
       "16      00:33:32           48  \n",
       "27      15:35:27           48  \n",
       "39      15:56:10           48  \n",
       "41      16:20:31           48  \n",
       "...          ...          ...  \n",
       "175415  14:03:09           48  \n",
       "175420  07:31:03           48  \n",
       "175424  07:30:45           48  \n",
       "175428  15:08:56           48  \n",
       "175429  15:20:23           48  \n",
       "\n",
       "[34930 rows x 16 columns]"
      ],
      "text/html": "<div>\n<style scoped>\n    .dataframe tbody tr th:only-of-type {\n        vertical-align: middle;\n    }\n\n    .dataframe tbody tr th {\n        vertical-align: top;\n    }\n\n    .dataframe thead th {\n        text-align: right;\n    }\n</style>\n<table border=\"1\" class=\"dataframe\">\n  <thead>\n    <tr style=\"text-align: right;\">\n      <th></th>\n      <th>ride_id</th>\n      <th>rideable_type</th>\n      <th>started_at</th>\n      <th>ended_at</th>\n      <th>start_station_name</th>\n      <th>start_station_id</th>\n      <th>end_station_name</th>\n      <th>end_station_id</th>\n      <th>start_lat</th>\n      <th>start_lng</th>\n      <th>end_lat</th>\n      <th>end_lng</th>\n      <th>member_casual</th>\n      <th>date</th>\n      <th>time</th>\n      <th>Week_Number</th>\n    </tr>\n  </thead>\n  <tbody>\n    <tr>\n      <th>3</th>\n      <td>B870C5DC875CA903</td>\n      <td>docked_bike</td>\n      <td>2020-11-25 16:02:34</td>\n      <td>2020-11-25 16:31:31</td>\n      <td>Lincoln Memorial</td>\n      <td>31258.0</td>\n      <td>15th St &amp; Constitution Ave NW</td>\n      <td>31321.0</td>\n      <td>38.888255</td>\n      <td>-77.049436</td>\n      <td>38.892244</td>\n      <td>-77.033234</td>\n      <td>casual</td>\n      <td>2020-11-25</td>\n      <td>16:02:34</td>\n      <td>48</td>\n    </tr>\n    <tr>\n      <th>16</th>\n      <td>A894ADB87D7F8138</td>\n      <td>docked_bike</td>\n      <td>2020-11-23 00:33:32</td>\n      <td>2020-11-23 01:16:56</td>\n      <td>Lincoln Memorial</td>\n      <td>31258.0</td>\n      <td>17th &amp; G St NW</td>\n      <td>31277.0</td>\n      <td>38.888255</td>\n      <td>-77.049437</td>\n      <td>38.898283</td>\n      <td>-77.039732</td>\n      <td>casual</td>\n      <td>2020-11-23</td>\n      <td>00:33:32</td>\n      <td>48</td>\n    </tr>\n    <tr>\n      <th>27</th>\n      <td>807753A54E6DEF87</td>\n      <td>docked_bike</td>\n      <td>2020-11-26 15:35:27</td>\n      <td>2020-11-26 16:06:03</td>\n      <td>Lincoln Memorial</td>\n      <td>31258.0</td>\n      <td>4th St &amp; Madison Dr NW</td>\n      <td>31288.0</td>\n      <td>38.888255</td>\n      <td>-77.049436</td>\n      <td>38.890496</td>\n      <td>-77.017246</td>\n      <td>casual</td>\n      <td>2020-11-26</td>\n      <td>15:35:27</td>\n      <td>48</td>\n    </tr>\n    <tr>\n      <th>39</th>\n      <td>8C60D3DDB7DD7A98</td>\n      <td>docked_bike</td>\n      <td>2020-11-23 15:56:10</td>\n      <td>2020-11-23 16:38:30</td>\n      <td>Lincoln Memorial</td>\n      <td>31258.0</td>\n      <td>USDA / 12th &amp; C St SW</td>\n      <td>31217.0</td>\n      <td>38.888255</td>\n      <td>-77.049437</td>\n      <td>38.886277</td>\n      <td>-77.028242</td>\n      <td>casual</td>\n      <td>2020-11-23</td>\n      <td>15:56:10</td>\n      <td>48</td>\n    </tr>\n    <tr>\n      <th>41</th>\n      <td>343A469556B17DF8</td>\n      <td>docked_bike</td>\n      <td>2020-11-29 16:20:31</td>\n      <td>2020-11-29 17:11:47</td>\n      <td>8th &amp; East Capitol St NE</td>\n      <td>31629.0</td>\n      <td>4th &amp; East Capitol St NE</td>\n      <td>31618.0</td>\n      <td>38.889988</td>\n      <td>-76.995193</td>\n      <td>38.889955</td>\n      <td>-77.000349</td>\n      <td>casual</td>\n      <td>2020-11-29</td>\n      <td>16:20:31</td>\n      <td>48</td>\n    </tr>\n    <tr>\n      <th>...</th>\n      <td>...</td>\n      <td>...</td>\n      <td>...</td>\n      <td>...</td>\n      <td>...</td>\n      <td>...</td>\n      <td>...</td>\n      <td>...</td>\n      <td>...</td>\n      <td>...</td>\n      <td>...</td>\n      <td>...</td>\n      <td>...</td>\n      <td>...</td>\n      <td>...</td>\n      <td>...</td>\n    </tr>\n    <tr>\n      <th>175415</th>\n      <td>AEF729E5C833E3B6</td>\n      <td>docked_bike</td>\n      <td>2020-11-26 14:03:09</td>\n      <td>2020-11-26 14:14:03</td>\n      <td>Gravelly Point</td>\n      <td>31064.0</td>\n      <td>Crystal Dr &amp; 20th St S</td>\n      <td>31002.0</td>\n      <td>38.865029</td>\n      <td>-77.039511</td>\n      <td>38.856425</td>\n      <td>-77.049232</td>\n      <td>casual</td>\n      <td>2020-11-26</td>\n      <td>14:03:09</td>\n      <td>48</td>\n    </tr>\n    <tr>\n      <th>175420</th>\n      <td>542988D884151DDA</td>\n      <td>docked_bike</td>\n      <td>2020-11-24 07:31:03</td>\n      <td>2020-11-24 07:35:48</td>\n      <td>King St Metro North / Cameron St</td>\n      <td>31098.0</td>\n      <td>Braddock Rd Metro</td>\n      <td>31047.0</td>\n      <td>38.807040</td>\n      <td>-77.059817</td>\n      <td>38.814577</td>\n      <td>-77.052808</td>\n      <td>member</td>\n      <td>2020-11-24</td>\n      <td>07:31:03</td>\n      <td>48</td>\n    </tr>\n    <tr>\n      <th>175424</th>\n      <td>19A69E471A0359A1</td>\n      <td>docked_bike</td>\n      <td>2020-11-25 07:30:45</td>\n      <td>2020-11-25 07:35:28</td>\n      <td>King St Metro North / Cameron St</td>\n      <td>31098.0</td>\n      <td>Braddock Rd Metro</td>\n      <td>31047.0</td>\n      <td>38.807040</td>\n      <td>-77.059817</td>\n      <td>38.814577</td>\n      <td>-77.052808</td>\n      <td>member</td>\n      <td>2020-11-25</td>\n      <td>07:30:45</td>\n      <td>48</td>\n    </tr>\n    <tr>\n      <th>175428</th>\n      <td>80A9FA800D2B2F19</td>\n      <td>electric_bike</td>\n      <td>2020-11-29 15:08:56</td>\n      <td>2020-11-29 15:33:46</td>\n      <td>Van Ness Metro / UDC</td>\n      <td>31300.0</td>\n      <td>M St &amp; Pennsylvania Ave NW</td>\n      <td>31246.0</td>\n      <td>38.944547</td>\n      <td>-77.063900</td>\n      <td>38.905089</td>\n      <td>-77.056939</td>\n      <td>member</td>\n      <td>2020-11-29</td>\n      <td>15:08:56</td>\n      <td>48</td>\n    </tr>\n    <tr>\n      <th>175429</th>\n      <td>FAEE5EB8F209FC3E</td>\n      <td>electric_bike</td>\n      <td>2020-11-24 15:20:23</td>\n      <td>2020-11-24 15:38:49</td>\n      <td>Gravelly Point</td>\n      <td>31064.0</td>\n      <td>4th &amp; M St SW</td>\n      <td>31108.0</td>\n      <td>38.865052</td>\n      <td>-77.039541</td>\n      <td>38.876847</td>\n      <td>-77.017848</td>\n      <td>casual</td>\n      <td>2020-11-24</td>\n      <td>15:20:23</td>\n      <td>48</td>\n    </tr>\n  </tbody>\n</table>\n<p>34930 rows × 16 columns</p>\n</div>"
     },
     "metadata": {},
     "execution_count": 18
    }
   ],
   "source": [
    "w_48 = data[data['Week_Number'] == 48]\n",
    "w_48"
   ]
  },
  {
   "cell_type": "code",
   "execution_count": 19,
   "metadata": {},
   "outputs": [
    {
     "output_type": "stream",
     "name": "stderr",
     "text": [
      "C:\\Anaconda2\\lib\\site-packages\\pandas\\core\\indexing.py:1596: SettingWithCopyWarning: \nA value is trying to be set on a copy of a slice from a DataFrame.\nTry using .loc[row_indexer,col_indexer] = value instead\n\nSee the caveats in the documentation: https://pandas.pydata.org/pandas-docs/stable/user_guide/indexing.html#returning-a-view-versus-a-copy\n  self.obj[key] = _infer_fill_value(value)\nC:\\Anaconda2\\lib\\site-packages\\pandas\\core\\indexing.py:1765: SettingWithCopyWarning: \nA value is trying to be set on a copy of a slice from a DataFrame.\nTry using .loc[row_indexer,col_indexer] = value instead\n\nSee the caveats in the documentation: https://pandas.pydata.org/pandas-docs/stable/user_guide/indexing.html#returning-a-view-versus-a-copy\n  isetter(loc, value)\n"
     ]
    },
    {
     "output_type": "execute_result",
     "data": {
      "text/plain": [
       "                 ride_id  rideable_type          started_at  \\\n",
       "3       B870C5DC875CA903    docked_bike 2020-11-25 16:02:34   \n",
       "16      A894ADB87D7F8138    docked_bike 2020-11-23 00:33:32   \n",
       "27      807753A54E6DEF87    docked_bike 2020-11-26 15:35:27   \n",
       "39      8C60D3DDB7DD7A98    docked_bike 2020-11-23 15:56:10   \n",
       "41      343A469556B17DF8    docked_bike 2020-11-29 16:20:31   \n",
       "...                  ...            ...                 ...   \n",
       "175415  AEF729E5C833E3B6    docked_bike 2020-11-26 14:03:09   \n",
       "175420  542988D884151DDA    docked_bike 2020-11-24 07:31:03   \n",
       "175424  19A69E471A0359A1    docked_bike 2020-11-25 07:30:45   \n",
       "175428  80A9FA800D2B2F19  electric_bike 2020-11-29 15:08:56   \n",
       "175429  FAEE5EB8F209FC3E  electric_bike 2020-11-24 15:20:23   \n",
       "\n",
       "                   ended_at                start_station_name  \\\n",
       "3       2020-11-25 16:31:31                  Lincoln Memorial   \n",
       "16      2020-11-23 01:16:56                  Lincoln Memorial   \n",
       "27      2020-11-26 16:06:03                  Lincoln Memorial   \n",
       "39      2020-11-23 16:38:30                  Lincoln Memorial   \n",
       "41      2020-11-29 17:11:47          8th & East Capitol St NE   \n",
       "...                     ...                               ...   \n",
       "175415  2020-11-26 14:14:03                    Gravelly Point   \n",
       "175420  2020-11-24 07:35:48  King St Metro North / Cameron St   \n",
       "175424  2020-11-25 07:35:28  King St Metro North / Cameron St   \n",
       "175428  2020-11-29 15:33:46              Van Ness Metro / UDC   \n",
       "175429  2020-11-24 15:38:49                    Gravelly Point   \n",
       "\n",
       "        start_station_id               end_station_name  end_station_id  \\\n",
       "3                31258.0  15th St & Constitution Ave NW         31321.0   \n",
       "16               31258.0                 17th & G St NW         31277.0   \n",
       "27               31258.0         4th St & Madison Dr NW         31288.0   \n",
       "39               31258.0          USDA / 12th & C St SW         31217.0   \n",
       "41               31629.0       4th & East Capitol St NE         31618.0   \n",
       "...                  ...                            ...             ...   \n",
       "175415           31064.0         Crystal Dr & 20th St S         31002.0   \n",
       "175420           31098.0              Braddock Rd Metro         31047.0   \n",
       "175424           31098.0              Braddock Rd Metro         31047.0   \n",
       "175428           31300.0     M St & Pennsylvania Ave NW         31246.0   \n",
       "175429           31064.0                  4th & M St SW         31108.0   \n",
       "\n",
       "        start_lat  start_lng    end_lat    end_lng member_casual       date  \\\n",
       "3       38.888255 -77.049436  38.892244 -77.033234        casual 2020-11-25   \n",
       "16      38.888255 -77.049437  38.898283 -77.039732        casual 2020-11-23   \n",
       "27      38.888255 -77.049436  38.890496 -77.017246        casual 2020-11-26   \n",
       "39      38.888255 -77.049437  38.886277 -77.028242        casual 2020-11-23   \n",
       "41      38.889988 -76.995193  38.889955 -77.000349        casual 2020-11-29   \n",
       "...           ...        ...        ...        ...           ...        ...   \n",
       "175415  38.865029 -77.039511  38.856425 -77.049232        casual 2020-11-26   \n",
       "175420  38.807040 -77.059817  38.814577 -77.052808        member 2020-11-24   \n",
       "175424  38.807040 -77.059817  38.814577 -77.052808        member 2020-11-25   \n",
       "175428  38.944547 -77.063900  38.905089 -77.056939        member 2020-11-29   \n",
       "175429  38.865052 -77.039541  38.876847 -77.017848        casual 2020-11-24   \n",
       "\n",
       "            time  Week_Number        Day  \n",
       "3       16:02:34           48  Wednesday  \n",
       "16      00:33:32           48     Monday  \n",
       "27      15:35:27           48   Thursday  \n",
       "39      15:56:10           48     Monday  \n",
       "41      16:20:31           48        NaN  \n",
       "...          ...          ...        ...  \n",
       "175415  14:03:09           48   Thursday  \n",
       "175420  07:31:03           48    Tuesday  \n",
       "175424  07:30:45           48  Wednesday  \n",
       "175428  15:08:56           48        NaN  \n",
       "175429  15:20:23           48    Tuesday  \n",
       "\n",
       "[34930 rows x 17 columns]"
      ],
      "text/html": "<div>\n<style scoped>\n    .dataframe tbody tr th:only-of-type {\n        vertical-align: middle;\n    }\n\n    .dataframe tbody tr th {\n        vertical-align: top;\n    }\n\n    .dataframe thead th {\n        text-align: right;\n    }\n</style>\n<table border=\"1\" class=\"dataframe\">\n  <thead>\n    <tr style=\"text-align: right;\">\n      <th></th>\n      <th>ride_id</th>\n      <th>rideable_type</th>\n      <th>started_at</th>\n      <th>ended_at</th>\n      <th>start_station_name</th>\n      <th>start_station_id</th>\n      <th>end_station_name</th>\n      <th>end_station_id</th>\n      <th>start_lat</th>\n      <th>start_lng</th>\n      <th>end_lat</th>\n      <th>end_lng</th>\n      <th>member_casual</th>\n      <th>date</th>\n      <th>time</th>\n      <th>Week_Number</th>\n      <th>Day</th>\n    </tr>\n  </thead>\n  <tbody>\n    <tr>\n      <th>3</th>\n      <td>B870C5DC875CA903</td>\n      <td>docked_bike</td>\n      <td>2020-11-25 16:02:34</td>\n      <td>2020-11-25 16:31:31</td>\n      <td>Lincoln Memorial</td>\n      <td>31258.0</td>\n      <td>15th St &amp; Constitution Ave NW</td>\n      <td>31321.0</td>\n      <td>38.888255</td>\n      <td>-77.049436</td>\n      <td>38.892244</td>\n      <td>-77.033234</td>\n      <td>casual</td>\n      <td>2020-11-25</td>\n      <td>16:02:34</td>\n      <td>48</td>\n      <td>Wednesday</td>\n    </tr>\n    <tr>\n      <th>16</th>\n      <td>A894ADB87D7F8138</td>\n      <td>docked_bike</td>\n      <td>2020-11-23 00:33:32</td>\n      <td>2020-11-23 01:16:56</td>\n      <td>Lincoln Memorial</td>\n      <td>31258.0</td>\n      <td>17th &amp; G St NW</td>\n      <td>31277.0</td>\n      <td>38.888255</td>\n      <td>-77.049437</td>\n      <td>38.898283</td>\n      <td>-77.039732</td>\n      <td>casual</td>\n      <td>2020-11-23</td>\n      <td>00:33:32</td>\n      <td>48</td>\n      <td>Monday</td>\n    </tr>\n    <tr>\n      <th>27</th>\n      <td>807753A54E6DEF87</td>\n      <td>docked_bike</td>\n      <td>2020-11-26 15:35:27</td>\n      <td>2020-11-26 16:06:03</td>\n      <td>Lincoln Memorial</td>\n      <td>31258.0</td>\n      <td>4th St &amp; Madison Dr NW</td>\n      <td>31288.0</td>\n      <td>38.888255</td>\n      <td>-77.049436</td>\n      <td>38.890496</td>\n      <td>-77.017246</td>\n      <td>casual</td>\n      <td>2020-11-26</td>\n      <td>15:35:27</td>\n      <td>48</td>\n      <td>Thursday</td>\n    </tr>\n    <tr>\n      <th>39</th>\n      <td>8C60D3DDB7DD7A98</td>\n      <td>docked_bike</td>\n      <td>2020-11-23 15:56:10</td>\n      <td>2020-11-23 16:38:30</td>\n      <td>Lincoln Memorial</td>\n      <td>31258.0</td>\n      <td>USDA / 12th &amp; C St SW</td>\n      <td>31217.0</td>\n      <td>38.888255</td>\n      <td>-77.049437</td>\n      <td>38.886277</td>\n      <td>-77.028242</td>\n      <td>casual</td>\n      <td>2020-11-23</td>\n      <td>15:56:10</td>\n      <td>48</td>\n      <td>Monday</td>\n    </tr>\n    <tr>\n      <th>41</th>\n      <td>343A469556B17DF8</td>\n      <td>docked_bike</td>\n      <td>2020-11-29 16:20:31</td>\n      <td>2020-11-29 17:11:47</td>\n      <td>8th &amp; East Capitol St NE</td>\n      <td>31629.0</td>\n      <td>4th &amp; East Capitol St NE</td>\n      <td>31618.0</td>\n      <td>38.889988</td>\n      <td>-76.995193</td>\n      <td>38.889955</td>\n      <td>-77.000349</td>\n      <td>casual</td>\n      <td>2020-11-29</td>\n      <td>16:20:31</td>\n      <td>48</td>\n      <td>NaN</td>\n    </tr>\n    <tr>\n      <th>...</th>\n      <td>...</td>\n      <td>...</td>\n      <td>...</td>\n      <td>...</td>\n      <td>...</td>\n      <td>...</td>\n      <td>...</td>\n      <td>...</td>\n      <td>...</td>\n      <td>...</td>\n      <td>...</td>\n      <td>...</td>\n      <td>...</td>\n      <td>...</td>\n      <td>...</td>\n      <td>...</td>\n      <td>...</td>\n    </tr>\n    <tr>\n      <th>175415</th>\n      <td>AEF729E5C833E3B6</td>\n      <td>docked_bike</td>\n      <td>2020-11-26 14:03:09</td>\n      <td>2020-11-26 14:14:03</td>\n      <td>Gravelly Point</td>\n      <td>31064.0</td>\n      <td>Crystal Dr &amp; 20th St S</td>\n      <td>31002.0</td>\n      <td>38.865029</td>\n      <td>-77.039511</td>\n      <td>38.856425</td>\n      <td>-77.049232</td>\n      <td>casual</td>\n      <td>2020-11-26</td>\n      <td>14:03:09</td>\n      <td>48</td>\n      <td>Thursday</td>\n    </tr>\n    <tr>\n      <th>175420</th>\n      <td>542988D884151DDA</td>\n      <td>docked_bike</td>\n      <td>2020-11-24 07:31:03</td>\n      <td>2020-11-24 07:35:48</td>\n      <td>King St Metro North / Cameron St</td>\n      <td>31098.0</td>\n      <td>Braddock Rd Metro</td>\n      <td>31047.0</td>\n      <td>38.807040</td>\n      <td>-77.059817</td>\n      <td>38.814577</td>\n      <td>-77.052808</td>\n      <td>member</td>\n      <td>2020-11-24</td>\n      <td>07:31:03</td>\n      <td>48</td>\n      <td>Tuesday</td>\n    </tr>\n    <tr>\n      <th>175424</th>\n      <td>19A69E471A0359A1</td>\n      <td>docked_bike</td>\n      <td>2020-11-25 07:30:45</td>\n      <td>2020-11-25 07:35:28</td>\n      <td>King St Metro North / Cameron St</td>\n      <td>31098.0</td>\n      <td>Braddock Rd Metro</td>\n      <td>31047.0</td>\n      <td>38.807040</td>\n      <td>-77.059817</td>\n      <td>38.814577</td>\n      <td>-77.052808</td>\n      <td>member</td>\n      <td>2020-11-25</td>\n      <td>07:30:45</td>\n      <td>48</td>\n      <td>Wednesday</td>\n    </tr>\n    <tr>\n      <th>175428</th>\n      <td>80A9FA800D2B2F19</td>\n      <td>electric_bike</td>\n      <td>2020-11-29 15:08:56</td>\n      <td>2020-11-29 15:33:46</td>\n      <td>Van Ness Metro / UDC</td>\n      <td>31300.0</td>\n      <td>M St &amp; Pennsylvania Ave NW</td>\n      <td>31246.0</td>\n      <td>38.944547</td>\n      <td>-77.063900</td>\n      <td>38.905089</td>\n      <td>-77.056939</td>\n      <td>member</td>\n      <td>2020-11-29</td>\n      <td>15:08:56</td>\n      <td>48</td>\n      <td>NaN</td>\n    </tr>\n    <tr>\n      <th>175429</th>\n      <td>FAEE5EB8F209FC3E</td>\n      <td>electric_bike</td>\n      <td>2020-11-24 15:20:23</td>\n      <td>2020-11-24 15:38:49</td>\n      <td>Gravelly Point</td>\n      <td>31064.0</td>\n      <td>4th &amp; M St SW</td>\n      <td>31108.0</td>\n      <td>38.865052</td>\n      <td>-77.039541</td>\n      <td>38.876847</td>\n      <td>-77.017848</td>\n      <td>casual</td>\n      <td>2020-11-24</td>\n      <td>15:20:23</td>\n      <td>48</td>\n      <td>Tuesday</td>\n    </tr>\n  </tbody>\n</table>\n<p>34930 rows × 17 columns</p>\n</div>"
     },
     "metadata": {},
     "execution_count": 19
    }
   ],
   "source": [
    "w_48.loc[w_48['date'] == '2020-11-23', 'Day'] = 'Monday'\n",
    "w_48.loc[w_48['date'] == '2020-11-24', 'Day'] = 'Tuesday'\n",
    "w_48.loc[w_48['date'] == '2020-11-25', 'Day'] = 'Wednesday'\n",
    "w_48.loc[w_48['date'] == '2020-11-26', 'Day'] = 'Thursday'\n",
    "w_48.loc[w_48['date'] == '2020-11-27', 'Day'] = 'Friday'\n",
    "# w_48.loc[w_48['date'] == '2020-11-28', 'Day'] = 'Saturday'\n",
    "# w_48.loc[w_48['date'] == '2020-11-29', 'Day'] = 'sunday'\n",
    "w_48"
   ]
  },
  {
   "cell_type": "code",
   "execution_count": 20,
   "metadata": {},
   "outputs": [
    {
     "output_type": "execute_result",
     "data": {
      "text/plain": [
       "ride_id                   0\n",
       "rideable_type             0\n",
       "started_at                0\n",
       "ended_at                  0\n",
       "start_station_name     3102\n",
       "start_station_id       3102\n",
       "end_station_name       3411\n",
       "end_station_id         3411\n",
       "start_lat                 0\n",
       "start_lng                 0\n",
       "end_lat                  89\n",
       "end_lng                  89\n",
       "member_casual             0\n",
       "date                      0\n",
       "time                      0\n",
       "Week_Number               0\n",
       "Day                   12528\n",
       "dtype: int64"
      ]
     },
     "metadata": {},
     "execution_count": 20
    }
   ],
   "source": [
    "w_48.isnull().sum()"
   ]
  },
  {
   "cell_type": "code",
   "execution_count": 21,
   "metadata": {},
   "outputs": [
    {
     "output_type": "execute_result",
     "data": {
      "text/plain": [
       "Friday       5687\n",
       "Tuesday      4391\n",
       "Thursday     4191\n",
       "Wednesday    4165\n",
       "Monday       3968\n",
       "Name: Day, dtype: int64"
      ]
     },
     "metadata": {},
     "execution_count": 21
    }
   ],
   "source": [
    "w_48['Day'].value_counts()"
   ]
  },
  {
   "cell_type": "code",
   "execution_count": 22,
   "metadata": {},
   "outputs": [
    {
     "output_type": "execute_result",
     "data": {
      "text/plain": [
       "<bound method DataFrame.sort_values of member_casual  casual  member\n",
       "Day                          \n",
       "Friday           2999    2688\n",
       "Monday           1272    2696\n",
       "Thursday         2115    2076\n",
       "Tuesday          1537    2854\n",
       "Wednesday        1587    2578>"
      ]
     },
     "metadata": {},
     "execution_count": 22
    }
   ],
   "source": [
    "df_plot = w_48.groupby(['member_casual', 'Day']).size().reset_index().pivot(columns='member_casual', index='Day', values=0)\n",
    "df_plot.sort_values"
   ]
  },
  {
   "cell_type": "code",
   "execution_count": 23,
   "metadata": {},
   "outputs": [
    {
     "output_type": "display_data",
     "data": {
      "text/plain": "<Figure size 432x288 with 1 Axes>",
      "image/svg+xml": "<?xml version=\"1.0\" encoding=\"utf-8\" standalone=\"no\"?>\r\n<!DOCTYPE svg PUBLIC \"-//W3C//DTD SVG 1.1//EN\"\r\n  \"http://www.w3.org/Graphics/SVG/1.1/DTD/svg11.dtd\">\r\n<!-- Created with matplotlib (https://matplotlib.org/) -->\r\n<svg height=\"262.19625pt\" version=\"1.1\" viewBox=\"0 0 395.380256 262.19625\" width=\"395.380256pt\" xmlns=\"http://www.w3.org/2000/svg\" xmlns:xlink=\"http://www.w3.org/1999/xlink\">\r\n <metadata>\r\n  <rdf:RDF xmlns:cc=\"http://creativecommons.org/ns#\" xmlns:dc=\"http://purl.org/dc/elements/1.1/\" xmlns:rdf=\"http://www.w3.org/1999/02/22-rdf-syntax-ns#\">\r\n   <cc:Work>\r\n    <dc:type rdf:resource=\"http://purl.org/dc/dcmitype/StillImage\"/>\r\n    <dc:date>2021-03-08T11:54:10.433234</dc:date>\r\n    <dc:format>image/svg+xml</dc:format>\r\n    <dc:creator>\r\n     <cc:Agent>\r\n      <dc:title>Matplotlib v3.3.2, https://matplotlib.org/</dc:title>\r\n     </cc:Agent>\r\n    </dc:creator>\r\n   </cc:Work>\r\n  </rdf:RDF>\r\n </metadata>\r\n <defs>\r\n  <style type=\"text/css\">*{stroke-linecap:butt;stroke-linejoin:round;}</style>\r\n </defs>\r\n <g id=\"figure_1\">\r\n  <g id=\"patch_1\">\r\n   <path d=\"M -0 262.19625 \r\nL 395.380256 262.19625 \r\nL 395.380256 0 \r\nL -0 0 \r\nz\r\n\" style=\"fill:none;\"/>\r\n  </g>\r\n  <g id=\"axes_1\">\r\n   <g id=\"patch_2\">\r\n    <path d=\"M 39.65 224.64 \r\nL 374.45 224.64 \r\nL 374.45 7.2 \r\nL 39.65 7.2 \r\nz\r\n\" style=\"fill:#ffffff;\"/>\r\n   </g>\r\n   <g id=\"matplotlib.axis_1\">\r\n    <g id=\"xtick_1\">\r\n     <g id=\"line2d_1\">\r\n      <defs>\r\n       <path d=\"M 0 0 \r\nL 0 3.5 \r\n\" id=\"m6db77be9a3\" style=\"stroke:#000000;stroke-width:0.8;\"/>\r\n      </defs>\r\n      <g>\r\n       <use style=\"stroke:#000000;stroke-width:0.8;\" x=\"54.868182\" xlink:href=\"#m6db77be9a3\" y=\"224.64\"/>\r\n      </g>\r\n     </g>\r\n     <g id=\"text_1\">\r\n      <!-- Friday -->\r\n      <g transform=\"translate(39.712713 239.238438)scale(0.1 -0.1)\">\r\n       <defs>\r\n        <path d=\"M 9.8125 72.90625 \r\nL 51.703125 72.90625 \r\nL 51.703125 64.59375 \r\nL 19.671875 64.59375 \r\nL 19.671875 43.109375 \r\nL 48.578125 43.109375 \r\nL 48.578125 34.8125 \r\nL 19.671875 34.8125 \r\nL 19.671875 0 \r\nL 9.8125 0 \r\nz\r\n\" id=\"DejaVuSans-70\"/>\r\n        <path d=\"M 41.109375 46.296875 \r\nQ 39.59375 47.171875 37.8125 47.578125 \r\nQ 36.03125 48 33.890625 48 \r\nQ 26.265625 48 22.1875 43.046875 \r\nQ 18.109375 38.09375 18.109375 28.8125 \r\nL 18.109375 0 \r\nL 9.078125 0 \r\nL 9.078125 54.6875 \r\nL 18.109375 54.6875 \r\nL 18.109375 46.1875 \r\nQ 20.953125 51.171875 25.484375 53.578125 \r\nQ 30.03125 56 36.53125 56 \r\nQ 37.453125 56 38.578125 55.875 \r\nQ 39.703125 55.765625 41.0625 55.515625 \r\nz\r\n\" id=\"DejaVuSans-114\"/>\r\n        <path d=\"M 9.421875 54.6875 \r\nL 18.40625 54.6875 \r\nL 18.40625 0 \r\nL 9.421875 0 \r\nz\r\nM 9.421875 75.984375 \r\nL 18.40625 75.984375 \r\nL 18.40625 64.59375 \r\nL 9.421875 64.59375 \r\nz\r\n\" id=\"DejaVuSans-105\"/>\r\n        <path d=\"M 45.40625 46.390625 \r\nL 45.40625 75.984375 \r\nL 54.390625 75.984375 \r\nL 54.390625 0 \r\nL 45.40625 0 \r\nL 45.40625 8.203125 \r\nQ 42.578125 3.328125 38.25 0.953125 \r\nQ 33.9375 -1.421875 27.875 -1.421875 \r\nQ 17.96875 -1.421875 11.734375 6.484375 \r\nQ 5.515625 14.40625 5.515625 27.296875 \r\nQ 5.515625 40.1875 11.734375 48.09375 \r\nQ 17.96875 56 27.875 56 \r\nQ 33.9375 56 38.25 53.625 \r\nQ 42.578125 51.265625 45.40625 46.390625 \r\nz\r\nM 14.796875 27.296875 \r\nQ 14.796875 17.390625 18.875 11.75 \r\nQ 22.953125 6.109375 30.078125 6.109375 \r\nQ 37.203125 6.109375 41.296875 11.75 \r\nQ 45.40625 17.390625 45.40625 27.296875 \r\nQ 45.40625 37.203125 41.296875 42.84375 \r\nQ 37.203125 48.484375 30.078125 48.484375 \r\nQ 22.953125 48.484375 18.875 42.84375 \r\nQ 14.796875 37.203125 14.796875 27.296875 \r\nz\r\n\" id=\"DejaVuSans-100\"/>\r\n        <path d=\"M 34.28125 27.484375 \r\nQ 23.390625 27.484375 19.1875 25 \r\nQ 14.984375 22.515625 14.984375 16.5 \r\nQ 14.984375 11.71875 18.140625 8.90625 \r\nQ 21.296875 6.109375 26.703125 6.109375 \r\nQ 34.1875 6.109375 38.703125 11.40625 \r\nQ 43.21875 16.703125 43.21875 25.484375 \r\nL 43.21875 27.484375 \r\nz\r\nM 52.203125 31.203125 \r\nL 52.203125 0 \r\nL 43.21875 0 \r\nL 43.21875 8.296875 \r\nQ 40.140625 3.328125 35.546875 0.953125 \r\nQ 30.953125 -1.421875 24.3125 -1.421875 \r\nQ 15.921875 -1.421875 10.953125 3.296875 \r\nQ 6 8.015625 6 15.921875 \r\nQ 6 25.140625 12.171875 29.828125 \r\nQ 18.359375 34.515625 30.609375 34.515625 \r\nL 43.21875 34.515625 \r\nL 43.21875 35.40625 \r\nQ 43.21875 41.609375 39.140625 45 \r\nQ 35.0625 48.390625 27.6875 48.390625 \r\nQ 23 48.390625 18.546875 47.265625 \r\nQ 14.109375 46.140625 10.015625 43.890625 \r\nL 10.015625 52.203125 \r\nQ 14.9375 54.109375 19.578125 55.046875 \r\nQ 24.21875 56 28.609375 56 \r\nQ 40.484375 56 46.34375 49.84375 \r\nQ 52.203125 43.703125 52.203125 31.203125 \r\nz\r\n\" id=\"DejaVuSans-97\"/>\r\n        <path d=\"M 32.171875 -5.078125 \r\nQ 28.375 -14.84375 24.75 -17.8125 \r\nQ 21.140625 -20.796875 15.09375 -20.796875 \r\nL 7.90625 -20.796875 \r\nL 7.90625 -13.28125 \r\nL 13.1875 -13.28125 \r\nQ 16.890625 -13.28125 18.9375 -11.515625 \r\nQ 21 -9.765625 23.484375 -3.21875 \r\nL 25.09375 0.875 \r\nL 2.984375 54.6875 \r\nL 12.5 54.6875 \r\nL 29.59375 11.921875 \r\nL 46.6875 54.6875 \r\nL 56.203125 54.6875 \r\nz\r\n\" id=\"DejaVuSans-121\"/>\r\n       </defs>\r\n       <use xlink:href=\"#DejaVuSans-70\"/>\r\n       <use x=\"50.269531\" xlink:href=\"#DejaVuSans-114\"/>\r\n       <use x=\"91.382812\" xlink:href=\"#DejaVuSans-105\"/>\r\n       <use x=\"119.166016\" xlink:href=\"#DejaVuSans-100\"/>\r\n       <use x=\"182.642578\" xlink:href=\"#DejaVuSans-97\"/>\r\n       <use x=\"243.921875\" xlink:href=\"#DejaVuSans-121\"/>\r\n      </g>\r\n     </g>\r\n    </g>\r\n    <g id=\"xtick_2\">\r\n     <g id=\"line2d_2\">\r\n      <g>\r\n       <use style=\"stroke:#000000;stroke-width:0.8;\" x=\"92.913636\" xlink:href=\"#m6db77be9a3\" y=\"224.64\"/>\r\n      </g>\r\n     </g>\r\n    </g>\r\n    <g id=\"xtick_3\">\r\n     <g id=\"line2d_3\">\r\n      <g>\r\n       <use style=\"stroke:#000000;stroke-width:0.8;\" x=\"130.959091\" xlink:href=\"#m6db77be9a3\" y=\"224.64\"/>\r\n      </g>\r\n     </g>\r\n     <g id=\"text_2\">\r\n      <!-- Monday -->\r\n      <g transform=\"translate(111.219247 239.238438)scale(0.1 -0.1)\">\r\n       <defs>\r\n        <path d=\"M 9.8125 72.90625 \r\nL 24.515625 72.90625 \r\nL 43.109375 23.296875 \r\nL 61.8125 72.90625 \r\nL 76.515625 72.90625 \r\nL 76.515625 0 \r\nL 66.890625 0 \r\nL 66.890625 64.015625 \r\nL 48.09375 14.015625 \r\nL 38.1875 14.015625 \r\nL 19.390625 64.015625 \r\nL 19.390625 0 \r\nL 9.8125 0 \r\nz\r\n\" id=\"DejaVuSans-77\"/>\r\n        <path d=\"M 30.609375 48.390625 \r\nQ 23.390625 48.390625 19.1875 42.75 \r\nQ 14.984375 37.109375 14.984375 27.296875 \r\nQ 14.984375 17.484375 19.15625 11.84375 \r\nQ 23.34375 6.203125 30.609375 6.203125 \r\nQ 37.796875 6.203125 41.984375 11.859375 \r\nQ 46.1875 17.53125 46.1875 27.296875 \r\nQ 46.1875 37.015625 41.984375 42.703125 \r\nQ 37.796875 48.390625 30.609375 48.390625 \r\nz\r\nM 30.609375 56 \r\nQ 42.328125 56 49.015625 48.375 \r\nQ 55.71875 40.765625 55.71875 27.296875 \r\nQ 55.71875 13.875 49.015625 6.21875 \r\nQ 42.328125 -1.421875 30.609375 -1.421875 \r\nQ 18.84375 -1.421875 12.171875 6.21875 \r\nQ 5.515625 13.875 5.515625 27.296875 \r\nQ 5.515625 40.765625 12.171875 48.375 \r\nQ 18.84375 56 30.609375 56 \r\nz\r\n\" id=\"DejaVuSans-111\"/>\r\n        <path d=\"M 54.890625 33.015625 \r\nL 54.890625 0 \r\nL 45.90625 0 \r\nL 45.90625 32.71875 \r\nQ 45.90625 40.484375 42.875 44.328125 \r\nQ 39.84375 48.1875 33.796875 48.1875 \r\nQ 26.515625 48.1875 22.3125 43.546875 \r\nQ 18.109375 38.921875 18.109375 30.90625 \r\nL 18.109375 0 \r\nL 9.078125 0 \r\nL 9.078125 54.6875 \r\nL 18.109375 54.6875 \r\nL 18.109375 46.1875 \r\nQ 21.34375 51.125 25.703125 53.5625 \r\nQ 30.078125 56 35.796875 56 \r\nQ 45.21875 56 50.046875 50.171875 \r\nQ 54.890625 44.34375 54.890625 33.015625 \r\nz\r\n\" id=\"DejaVuSans-110\"/>\r\n       </defs>\r\n       <use xlink:href=\"#DejaVuSans-77\"/>\r\n       <use x=\"86.279297\" xlink:href=\"#DejaVuSans-111\"/>\r\n       <use x=\"147.460938\" xlink:href=\"#DejaVuSans-110\"/>\r\n       <use x=\"210.839844\" xlink:href=\"#DejaVuSans-100\"/>\r\n       <use x=\"274.316406\" xlink:href=\"#DejaVuSans-97\"/>\r\n       <use x=\"335.595703\" xlink:href=\"#DejaVuSans-121\"/>\r\n      </g>\r\n     </g>\r\n    </g>\r\n    <g id=\"xtick_4\">\r\n     <g id=\"line2d_4\">\r\n      <g>\r\n       <use style=\"stroke:#000000;stroke-width:0.8;\" x=\"169.004545\" xlink:href=\"#m6db77be9a3\" y=\"224.64\"/>\r\n      </g>\r\n     </g>\r\n    </g>\r\n    <g id=\"xtick_5\">\r\n     <g id=\"line2d_5\">\r\n      <g>\r\n       <use style=\"stroke:#000000;stroke-width:0.8;\" x=\"207.05\" xlink:href=\"#m6db77be9a3\" y=\"224.64\"/>\r\n      </g>\r\n     </g>\r\n     <g id=\"text_3\">\r\n      <!-- Thursday -->\r\n      <g transform=\"translate(183.800781 239.238438)scale(0.1 -0.1)\">\r\n       <defs>\r\n        <path d=\"M -0.296875 72.90625 \r\nL 61.375 72.90625 \r\nL 61.375 64.59375 \r\nL 35.5 64.59375 \r\nL 35.5 0 \r\nL 25.59375 0 \r\nL 25.59375 64.59375 \r\nL -0.296875 64.59375 \r\nz\r\n\" id=\"DejaVuSans-84\"/>\r\n        <path d=\"M 54.890625 33.015625 \r\nL 54.890625 0 \r\nL 45.90625 0 \r\nL 45.90625 32.71875 \r\nQ 45.90625 40.484375 42.875 44.328125 \r\nQ 39.84375 48.1875 33.796875 48.1875 \r\nQ 26.515625 48.1875 22.3125 43.546875 \r\nQ 18.109375 38.921875 18.109375 30.90625 \r\nL 18.109375 0 \r\nL 9.078125 0 \r\nL 9.078125 75.984375 \r\nL 18.109375 75.984375 \r\nL 18.109375 46.1875 \r\nQ 21.34375 51.125 25.703125 53.5625 \r\nQ 30.078125 56 35.796875 56 \r\nQ 45.21875 56 50.046875 50.171875 \r\nQ 54.890625 44.34375 54.890625 33.015625 \r\nz\r\n\" id=\"DejaVuSans-104\"/>\r\n        <path d=\"M 8.5 21.578125 \r\nL 8.5 54.6875 \r\nL 17.484375 54.6875 \r\nL 17.484375 21.921875 \r\nQ 17.484375 14.15625 20.5 10.265625 \r\nQ 23.53125 6.390625 29.59375 6.390625 \r\nQ 36.859375 6.390625 41.078125 11.03125 \r\nQ 45.3125 15.671875 45.3125 23.6875 \r\nL 45.3125 54.6875 \r\nL 54.296875 54.6875 \r\nL 54.296875 0 \r\nL 45.3125 0 \r\nL 45.3125 8.40625 \r\nQ 42.046875 3.421875 37.71875 1 \r\nQ 33.40625 -1.421875 27.6875 -1.421875 \r\nQ 18.265625 -1.421875 13.375 4.4375 \r\nQ 8.5 10.296875 8.5 21.578125 \r\nz\r\nM 31.109375 56 \r\nz\r\n\" id=\"DejaVuSans-117\"/>\r\n        <path d=\"M 44.28125 53.078125 \r\nL 44.28125 44.578125 \r\nQ 40.484375 46.53125 36.375 47.5 \r\nQ 32.28125 48.484375 27.875 48.484375 \r\nQ 21.1875 48.484375 17.84375 46.4375 \r\nQ 14.5 44.390625 14.5 40.28125 \r\nQ 14.5 37.15625 16.890625 35.375 \r\nQ 19.28125 33.59375 26.515625 31.984375 \r\nL 29.59375 31.296875 \r\nQ 39.15625 29.25 43.1875 25.515625 \r\nQ 47.21875 21.78125 47.21875 15.09375 \r\nQ 47.21875 7.46875 41.1875 3.015625 \r\nQ 35.15625 -1.421875 24.609375 -1.421875 \r\nQ 20.21875 -1.421875 15.453125 -0.5625 \r\nQ 10.6875 0.296875 5.421875 2 \r\nL 5.421875 11.28125 \r\nQ 10.40625 8.6875 15.234375 7.390625 \r\nQ 20.0625 6.109375 24.8125 6.109375 \r\nQ 31.15625 6.109375 34.5625 8.28125 \r\nQ 37.984375 10.453125 37.984375 14.40625 \r\nQ 37.984375 18.0625 35.515625 20.015625 \r\nQ 33.0625 21.96875 24.703125 23.78125 \r\nL 21.578125 24.515625 \r\nQ 13.234375 26.265625 9.515625 29.90625 \r\nQ 5.8125 33.546875 5.8125 39.890625 \r\nQ 5.8125 47.609375 11.28125 51.796875 \r\nQ 16.75 56 26.8125 56 \r\nQ 31.78125 56 36.171875 55.265625 \r\nQ 40.578125 54.546875 44.28125 53.078125 \r\nz\r\n\" id=\"DejaVuSans-115\"/>\r\n       </defs>\r\n       <use xlink:href=\"#DejaVuSans-84\"/>\r\n       <use x=\"61.083984\" xlink:href=\"#DejaVuSans-104\"/>\r\n       <use x=\"124.462891\" xlink:href=\"#DejaVuSans-117\"/>\r\n       <use x=\"187.841797\" xlink:href=\"#DejaVuSans-114\"/>\r\n       <use x=\"228.955078\" xlink:href=\"#DejaVuSans-115\"/>\r\n       <use x=\"281.054688\" xlink:href=\"#DejaVuSans-100\"/>\r\n       <use x=\"344.53125\" xlink:href=\"#DejaVuSans-97\"/>\r\n       <use x=\"405.810547\" xlink:href=\"#DejaVuSans-121\"/>\r\n      </g>\r\n     </g>\r\n    </g>\r\n    <g id=\"xtick_6\">\r\n     <g id=\"line2d_6\">\r\n      <g>\r\n       <use style=\"stroke:#000000;stroke-width:0.8;\" x=\"245.095455\" xlink:href=\"#m6db77be9a3\" y=\"224.64\"/>\r\n      </g>\r\n     </g>\r\n    </g>\r\n    <g id=\"xtick_7\">\r\n     <g id=\"line2d_7\">\r\n      <g>\r\n       <use style=\"stroke:#000000;stroke-width:0.8;\" x=\"283.140909\" xlink:href=\"#m6db77be9a3\" y=\"224.64\"/>\r\n      </g>\r\n     </g>\r\n     <g id=\"text_4\">\r\n      <!-- Tuesday -->\r\n      <g transform=\"translate(262.795597 239.238438)scale(0.1 -0.1)\">\r\n       <defs>\r\n        <path d=\"M 56.203125 29.59375 \r\nL 56.203125 25.203125 \r\nL 14.890625 25.203125 \r\nQ 15.484375 15.921875 20.484375 11.0625 \r\nQ 25.484375 6.203125 34.421875 6.203125 \r\nQ 39.59375 6.203125 44.453125 7.46875 \r\nQ 49.3125 8.734375 54.109375 11.28125 \r\nL 54.109375 2.78125 \r\nQ 49.265625 0.734375 44.1875 -0.34375 \r\nQ 39.109375 -1.421875 33.890625 -1.421875 \r\nQ 20.796875 -1.421875 13.15625 6.1875 \r\nQ 5.515625 13.8125 5.515625 26.8125 \r\nQ 5.515625 40.234375 12.765625 48.109375 \r\nQ 20.015625 56 32.328125 56 \r\nQ 43.359375 56 49.78125 48.890625 \r\nQ 56.203125 41.796875 56.203125 29.59375 \r\nz\r\nM 47.21875 32.234375 \r\nQ 47.125 39.59375 43.09375 43.984375 \r\nQ 39.0625 48.390625 32.421875 48.390625 \r\nQ 24.90625 48.390625 20.390625 44.140625 \r\nQ 15.875 39.890625 15.1875 32.171875 \r\nz\r\n\" id=\"DejaVuSans-101\"/>\r\n       </defs>\r\n       <use xlink:href=\"#DejaVuSans-84\"/>\r\n       <use x=\"45.958984\" xlink:href=\"#DejaVuSans-117\"/>\r\n       <use x=\"109.337891\" xlink:href=\"#DejaVuSans-101\"/>\r\n       <use x=\"170.861328\" xlink:href=\"#DejaVuSans-115\"/>\r\n       <use x=\"222.960938\" xlink:href=\"#DejaVuSans-100\"/>\r\n       <use x=\"286.4375\" xlink:href=\"#DejaVuSans-97\"/>\r\n       <use x=\"347.716797\" xlink:href=\"#DejaVuSans-121\"/>\r\n      </g>\r\n     </g>\r\n    </g>\r\n    <g id=\"xtick_8\">\r\n     <g id=\"line2d_8\">\r\n      <g>\r\n       <use style=\"stroke:#000000;stroke-width:0.8;\" x=\"321.186364\" xlink:href=\"#m6db77be9a3\" y=\"224.64\"/>\r\n      </g>\r\n     </g>\r\n    </g>\r\n    <g id=\"xtick_9\">\r\n     <g id=\"line2d_9\">\r\n      <g>\r\n       <use style=\"stroke:#000000;stroke-width:0.8;\" x=\"359.231818\" xlink:href=\"#m6db77be9a3\" y=\"224.64\"/>\r\n      </g>\r\n     </g>\r\n     <g id=\"text_5\">\r\n      <!-- Wednesday -->\r\n      <g transform=\"translate(330.283381 239.238438)scale(0.1 -0.1)\">\r\n       <defs>\r\n        <path d=\"M 3.328125 72.90625 \r\nL 13.28125 72.90625 \r\nL 28.609375 11.28125 \r\nL 43.890625 72.90625 \r\nL 54.984375 72.90625 \r\nL 70.3125 11.28125 \r\nL 85.59375 72.90625 \r\nL 95.609375 72.90625 \r\nL 77.296875 0 \r\nL 64.890625 0 \r\nL 49.515625 63.28125 \r\nL 33.984375 0 \r\nL 21.578125 0 \r\nz\r\n\" id=\"DejaVuSans-87\"/>\r\n       </defs>\r\n       <use xlink:href=\"#DejaVuSans-87\"/>\r\n       <use x=\"93.001953\" xlink:href=\"#DejaVuSans-101\"/>\r\n       <use x=\"154.525391\" xlink:href=\"#DejaVuSans-100\"/>\r\n       <use x=\"218.001953\" xlink:href=\"#DejaVuSans-110\"/>\r\n       <use x=\"281.380859\" xlink:href=\"#DejaVuSans-101\"/>\r\n       <use x=\"342.904297\" xlink:href=\"#DejaVuSans-115\"/>\r\n       <use x=\"395.003906\" xlink:href=\"#DejaVuSans-100\"/>\r\n       <use x=\"458.480469\" xlink:href=\"#DejaVuSans-97\"/>\r\n       <use x=\"519.759766\" xlink:href=\"#DejaVuSans-121\"/>\r\n      </g>\r\n     </g>\r\n    </g>\r\n    <g id=\"text_6\">\r\n     <!-- Day -->\r\n     <g transform=\"translate(197.176563 252.916563)scale(0.1 -0.1)\">\r\n      <defs>\r\n       <path d=\"M 19.671875 64.796875 \r\nL 19.671875 8.109375 \r\nL 31.59375 8.109375 \r\nQ 46.6875 8.109375 53.6875 14.9375 \r\nQ 60.6875 21.78125 60.6875 36.53125 \r\nQ 60.6875 51.171875 53.6875 57.984375 \r\nQ 46.6875 64.796875 31.59375 64.796875 \r\nz\r\nM 9.8125 72.90625 \r\nL 30.078125 72.90625 \r\nQ 51.265625 72.90625 61.171875 64.09375 \r\nQ 71.09375 55.28125 71.09375 36.53125 \r\nQ 71.09375 17.671875 61.125 8.828125 \r\nQ 51.171875 0 30.078125 0 \r\nL 9.8125 0 \r\nz\r\n\" id=\"DejaVuSans-68\"/>\r\n      </defs>\r\n      <use xlink:href=\"#DejaVuSans-68\"/>\r\n      <use x=\"77.001953\" xlink:href=\"#DejaVuSans-97\"/>\r\n      <use x=\"138.28125\" xlink:href=\"#DejaVuSans-121\"/>\r\n     </g>\r\n    </g>\r\n   </g>\r\n   <g id=\"matplotlib.axis_2\">\r\n    <g id=\"ytick_1\">\r\n     <g id=\"line2d_10\">\r\n      <defs>\r\n       <path d=\"M 0 0 \r\nL -3.5 0 \r\n\" id=\"m4c626d44bf\" style=\"stroke:#000000;stroke-width:0.8;\"/>\r\n      </defs>\r\n      <g>\r\n       <use style=\"stroke:#000000;stroke-width:0.8;\" x=\"39.65\" xlink:href=\"#m4c626d44bf\" y=\"182.161631\"/>\r\n      </g>\r\n     </g>\r\n     <g id=\"text_7\">\r\n      <!-- 2000 -->\r\n      <g transform=\"translate(7.2 185.96085)scale(0.1 -0.1)\">\r\n       <defs>\r\n        <path d=\"M 19.1875 8.296875 \r\nL 53.609375 8.296875 \r\nL 53.609375 0 \r\nL 7.328125 0 \r\nL 7.328125 8.296875 \r\nQ 12.9375 14.109375 22.625 23.890625 \r\nQ 32.328125 33.6875 34.8125 36.53125 \r\nQ 39.546875 41.84375 41.421875 45.53125 \r\nQ 43.3125 49.21875 43.3125 52.78125 \r\nQ 43.3125 58.59375 39.234375 62.25 \r\nQ 35.15625 65.921875 28.609375 65.921875 \r\nQ 23.96875 65.921875 18.8125 64.3125 \r\nQ 13.671875 62.703125 7.8125 59.421875 \r\nL 7.8125 69.390625 \r\nQ 13.765625 71.78125 18.9375 73 \r\nQ 24.125 74.21875 28.421875 74.21875 \r\nQ 39.75 74.21875 46.484375 68.546875 \r\nQ 53.21875 62.890625 53.21875 53.421875 \r\nQ 53.21875 48.921875 51.53125 44.890625 \r\nQ 49.859375 40.875 45.40625 35.40625 \r\nQ 44.1875 33.984375 37.640625 27.21875 \r\nQ 31.109375 20.453125 19.1875 8.296875 \r\nz\r\n\" id=\"DejaVuSans-50\"/>\r\n        <path d=\"M 31.78125 66.40625 \r\nQ 24.171875 66.40625 20.328125 58.90625 \r\nQ 16.5 51.421875 16.5 36.375 \r\nQ 16.5 21.390625 20.328125 13.890625 \r\nQ 24.171875 6.390625 31.78125 6.390625 \r\nQ 39.453125 6.390625 43.28125 13.890625 \r\nQ 47.125 21.390625 47.125 36.375 \r\nQ 47.125 51.421875 43.28125 58.90625 \r\nQ 39.453125 66.40625 31.78125 66.40625 \r\nz\r\nM 31.78125 74.21875 \r\nQ 44.046875 74.21875 50.515625 64.515625 \r\nQ 56.984375 54.828125 56.984375 36.375 \r\nQ 56.984375 17.96875 50.515625 8.265625 \r\nQ 44.046875 -1.421875 31.78125 -1.421875 \r\nQ 19.53125 -1.421875 13.0625 8.265625 \r\nQ 6.59375 17.96875 6.59375 36.375 \r\nQ 6.59375 54.828125 13.0625 64.515625 \r\nQ 19.53125 74.21875 31.78125 74.21875 \r\nz\r\n\" id=\"DejaVuSans-48\"/>\r\n       </defs>\r\n       <use xlink:href=\"#DejaVuSans-50\"/>\r\n       <use x=\"63.623047\" xlink:href=\"#DejaVuSans-48\"/>\r\n       <use x=\"127.246094\" xlink:href=\"#DejaVuSans-48\"/>\r\n       <use x=\"190.869141\" xlink:href=\"#DejaVuSans-48\"/>\r\n      </g>\r\n     </g>\r\n    </g>\r\n    <g id=\"ytick_2\">\r\n     <g id=\"line2d_11\">\r\n      <g>\r\n       <use style=\"stroke:#000000;stroke-width:0.8;\" x=\"39.65\" xlink:href=\"#m4c626d44bf\" y=\"137.388646\"/>\r\n      </g>\r\n     </g>\r\n     <g id=\"text_8\">\r\n      <!-- 3000 -->\r\n      <g transform=\"translate(7.2 141.187865)scale(0.1 -0.1)\">\r\n       <defs>\r\n        <path d=\"M 40.578125 39.3125 \r\nQ 47.65625 37.796875 51.625 33 \r\nQ 55.609375 28.21875 55.609375 21.1875 \r\nQ 55.609375 10.40625 48.1875 4.484375 \r\nQ 40.765625 -1.421875 27.09375 -1.421875 \r\nQ 22.515625 -1.421875 17.65625 -0.515625 \r\nQ 12.796875 0.390625 7.625 2.203125 \r\nL 7.625 11.71875 \r\nQ 11.71875 9.328125 16.59375 8.109375 \r\nQ 21.484375 6.890625 26.8125 6.890625 \r\nQ 36.078125 6.890625 40.9375 10.546875 \r\nQ 45.796875 14.203125 45.796875 21.1875 \r\nQ 45.796875 27.640625 41.28125 31.265625 \r\nQ 36.765625 34.90625 28.71875 34.90625 \r\nL 20.21875 34.90625 \r\nL 20.21875 43.015625 \r\nL 29.109375 43.015625 \r\nQ 36.375 43.015625 40.234375 45.921875 \r\nQ 44.09375 48.828125 44.09375 54.296875 \r\nQ 44.09375 59.90625 40.109375 62.90625 \r\nQ 36.140625 65.921875 28.71875 65.921875 \r\nQ 24.65625 65.921875 20.015625 65.03125 \r\nQ 15.375 64.15625 9.8125 62.3125 \r\nL 9.8125 71.09375 \r\nQ 15.4375 72.65625 20.34375 73.4375 \r\nQ 25.25 74.21875 29.59375 74.21875 \r\nQ 40.828125 74.21875 47.359375 69.109375 \r\nQ 53.90625 64.015625 53.90625 55.328125 \r\nQ 53.90625 49.265625 50.4375 45.09375 \r\nQ 46.96875 40.921875 40.578125 39.3125 \r\nz\r\n\" id=\"DejaVuSans-51\"/>\r\n       </defs>\r\n       <use xlink:href=\"#DejaVuSans-51\"/>\r\n       <use x=\"63.623047\" xlink:href=\"#DejaVuSans-48\"/>\r\n       <use x=\"127.246094\" xlink:href=\"#DejaVuSans-48\"/>\r\n       <use x=\"190.869141\" xlink:href=\"#DejaVuSans-48\"/>\r\n      </g>\r\n     </g>\r\n    </g>\r\n    <g id=\"ytick_3\">\r\n     <g id=\"line2d_12\">\r\n      <g>\r\n       <use style=\"stroke:#000000;stroke-width:0.8;\" x=\"39.65\" xlink:href=\"#m4c626d44bf\" y=\"92.615661\"/>\r\n      </g>\r\n     </g>\r\n     <g id=\"text_9\">\r\n      <!-- 4000 -->\r\n      <g transform=\"translate(7.2 96.41488)scale(0.1 -0.1)\">\r\n       <defs>\r\n        <path d=\"M 37.796875 64.3125 \r\nL 12.890625 25.390625 \r\nL 37.796875 25.390625 \r\nz\r\nM 35.203125 72.90625 \r\nL 47.609375 72.90625 \r\nL 47.609375 25.390625 \r\nL 58.015625 25.390625 \r\nL 58.015625 17.1875 \r\nL 47.609375 17.1875 \r\nL 47.609375 0 \r\nL 37.796875 0 \r\nL 37.796875 17.1875 \r\nL 4.890625 17.1875 \r\nL 4.890625 26.703125 \r\nz\r\n\" id=\"DejaVuSans-52\"/>\r\n       </defs>\r\n       <use xlink:href=\"#DejaVuSans-52\"/>\r\n       <use x=\"63.623047\" xlink:href=\"#DejaVuSans-48\"/>\r\n       <use x=\"127.246094\" xlink:href=\"#DejaVuSans-48\"/>\r\n       <use x=\"190.869141\" xlink:href=\"#DejaVuSans-48\"/>\r\n      </g>\r\n     </g>\r\n    </g>\r\n    <g id=\"ytick_4\">\r\n     <g id=\"line2d_13\">\r\n      <g>\r\n       <use style=\"stroke:#000000;stroke-width:0.8;\" x=\"39.65\" xlink:href=\"#m4c626d44bf\" y=\"47.842677\"/>\r\n      </g>\r\n     </g>\r\n     <g id=\"text_10\">\r\n      <!-- 5000 -->\r\n      <g transform=\"translate(7.2 51.641896)scale(0.1 -0.1)\">\r\n       <defs>\r\n        <path d=\"M 10.796875 72.90625 \r\nL 49.515625 72.90625 \r\nL 49.515625 64.59375 \r\nL 19.828125 64.59375 \r\nL 19.828125 46.734375 \r\nQ 21.96875 47.46875 24.109375 47.828125 \r\nQ 26.265625 48.1875 28.421875 48.1875 \r\nQ 40.625 48.1875 47.75 41.5 \r\nQ 54.890625 34.8125 54.890625 23.390625 \r\nQ 54.890625 11.625 47.5625 5.09375 \r\nQ 40.234375 -1.421875 26.90625 -1.421875 \r\nQ 22.3125 -1.421875 17.546875 -0.640625 \r\nQ 12.796875 0.140625 7.71875 1.703125 \r\nL 7.71875 11.625 \r\nQ 12.109375 9.234375 16.796875 8.0625 \r\nQ 21.484375 6.890625 26.703125 6.890625 \r\nQ 35.15625 6.890625 40.078125 11.328125 \r\nQ 45.015625 15.765625 45.015625 23.390625 \r\nQ 45.015625 31 40.078125 35.4375 \r\nQ 35.15625 39.890625 26.703125 39.890625 \r\nQ 22.75 39.890625 18.8125 39.015625 \r\nQ 14.890625 38.140625 10.796875 36.28125 \r\nz\r\n\" id=\"DejaVuSans-53\"/>\r\n       </defs>\r\n       <use xlink:href=\"#DejaVuSans-53\"/>\r\n       <use x=\"63.623047\" xlink:href=\"#DejaVuSans-48\"/>\r\n       <use x=\"127.246094\" xlink:href=\"#DejaVuSans-48\"/>\r\n       <use x=\"190.869141\" xlink:href=\"#DejaVuSans-48\"/>\r\n      </g>\r\n     </g>\r\n    </g>\r\n   </g>\r\n   <g id=\"line2d_14\">\r\n    <path clip-path=\"url(#pc14c8e8d12)\" d=\"M 54.868182 137.433419 \r\nL 130.959091 214.756364 \r\nL 207.05 177.012738 \r\nL 283.140909 202.891523 \r\nL 359.231818 200.652873 \r\n\" style=\"fill:none;stroke:#1f77b4;stroke-linecap:square;stroke-width:1.5;\"/>\r\n   </g>\r\n   <g id=\"line2d_15\">\r\n    <path clip-path=\"url(#pc14c8e8d12)\" d=\"M 54.868182 17.083636 \r\nL 130.959091 94.048397 \r\nL 207.05 84.064021 \r\nL 283.140909 75.109424 \r\nL 359.231818 85.228119 \r\n\" style=\"fill:none;stroke:#ff7f0e;stroke-linecap:square;stroke-width:1.5;\"/>\r\n   </g>\r\n   <g id=\"patch_3\">\r\n    <path d=\"M 39.65 224.64 \r\nL 39.65 7.2 \r\n\" style=\"fill:none;stroke:#000000;stroke-linecap:square;stroke-linejoin:miter;stroke-width:0.8;\"/>\r\n   </g>\r\n   <g id=\"patch_4\">\r\n    <path d=\"M 374.45 224.64 \r\nL 374.45 7.2 \r\n\" style=\"fill:none;stroke:#000000;stroke-linecap:square;stroke-linejoin:miter;stroke-width:0.8;\"/>\r\n   </g>\r\n   <g id=\"patch_5\">\r\n    <path d=\"M 39.65 224.64 \r\nL 374.45 224.64 \r\n\" style=\"fill:none;stroke:#000000;stroke-linecap:square;stroke-linejoin:miter;stroke-width:0.8;\"/>\r\n   </g>\r\n   <g id=\"patch_6\">\r\n    <path d=\"M 39.65 7.2 \r\nL 374.45 7.2 \r\n\" style=\"fill:none;stroke:#000000;stroke-linecap:square;stroke-linejoin:miter;stroke-width:0.8;\"/>\r\n   </g>\r\n   <g id=\"legend_1\">\r\n    <g id=\"patch_7\">\r\n     <path d=\"M 284.123438 59.5125 \r\nL 367.45 59.5125 \r\nQ 369.45 59.5125 369.45 57.5125 \r\nL 369.45 14.2 \r\nQ 369.45 12.2 367.45 12.2 \r\nL 284.123438 12.2 \r\nQ 282.123438 12.2 282.123438 14.2 \r\nL 282.123438 57.5125 \r\nQ 282.123438 59.5125 284.123438 59.5125 \r\nz\r\n\" style=\"fill:#ffffff;opacity:0.8;stroke:#cccccc;stroke-linejoin:miter;\"/>\r\n    </g>\r\n    <g id=\"text_11\">\r\n     <!-- member_casual -->\r\n     <g transform=\"translate(286.123438 23.798438)scale(0.1 -0.1)\">\r\n      <defs>\r\n       <path d=\"M 52 44.1875 \r\nQ 55.375 50.25 60.0625 53.125 \r\nQ 64.75 56 71.09375 56 \r\nQ 79.640625 56 84.28125 50.015625 \r\nQ 88.921875 44.046875 88.921875 33.015625 \r\nL 88.921875 0 \r\nL 79.890625 0 \r\nL 79.890625 32.71875 \r\nQ 79.890625 40.578125 77.09375 44.375 \r\nQ 74.3125 48.1875 68.609375 48.1875 \r\nQ 61.625 48.1875 57.5625 43.546875 \r\nQ 53.515625 38.921875 53.515625 30.90625 \r\nL 53.515625 0 \r\nL 44.484375 0 \r\nL 44.484375 32.71875 \r\nQ 44.484375 40.625 41.703125 44.40625 \r\nQ 38.921875 48.1875 33.109375 48.1875 \r\nQ 26.21875 48.1875 22.15625 43.53125 \r\nQ 18.109375 38.875 18.109375 30.90625 \r\nL 18.109375 0 \r\nL 9.078125 0 \r\nL 9.078125 54.6875 \r\nL 18.109375 54.6875 \r\nL 18.109375 46.1875 \r\nQ 21.1875 51.21875 25.484375 53.609375 \r\nQ 29.78125 56 35.6875 56 \r\nQ 41.65625 56 45.828125 52.96875 \r\nQ 50 49.953125 52 44.1875 \r\nz\r\n\" id=\"DejaVuSans-109\"/>\r\n       <path d=\"M 48.6875 27.296875 \r\nQ 48.6875 37.203125 44.609375 42.84375 \r\nQ 40.53125 48.484375 33.40625 48.484375 \r\nQ 26.265625 48.484375 22.1875 42.84375 \r\nQ 18.109375 37.203125 18.109375 27.296875 \r\nQ 18.109375 17.390625 22.1875 11.75 \r\nQ 26.265625 6.109375 33.40625 6.109375 \r\nQ 40.53125 6.109375 44.609375 11.75 \r\nQ 48.6875 17.390625 48.6875 27.296875 \r\nz\r\nM 18.109375 46.390625 \r\nQ 20.953125 51.265625 25.265625 53.625 \r\nQ 29.59375 56 35.59375 56 \r\nQ 45.5625 56 51.78125 48.09375 \r\nQ 58.015625 40.1875 58.015625 27.296875 \r\nQ 58.015625 14.40625 51.78125 6.484375 \r\nQ 45.5625 -1.421875 35.59375 -1.421875 \r\nQ 29.59375 -1.421875 25.265625 0.953125 \r\nQ 20.953125 3.328125 18.109375 8.203125 \r\nL 18.109375 0 \r\nL 9.078125 0 \r\nL 9.078125 75.984375 \r\nL 18.109375 75.984375 \r\nz\r\n\" id=\"DejaVuSans-98\"/>\r\n       <path d=\"M 50.984375 -16.609375 \r\nL 50.984375 -23.578125 \r\nL -0.984375 -23.578125 \r\nL -0.984375 -16.609375 \r\nz\r\n\" id=\"DejaVuSans-95\"/>\r\n       <path d=\"M 48.78125 52.59375 \r\nL 48.78125 44.1875 \r\nQ 44.96875 46.296875 41.140625 47.34375 \r\nQ 37.3125 48.390625 33.40625 48.390625 \r\nQ 24.65625 48.390625 19.8125 42.84375 \r\nQ 14.984375 37.3125 14.984375 27.296875 \r\nQ 14.984375 17.28125 19.8125 11.734375 \r\nQ 24.65625 6.203125 33.40625 6.203125 \r\nQ 37.3125 6.203125 41.140625 7.25 \r\nQ 44.96875 8.296875 48.78125 10.40625 \r\nL 48.78125 2.09375 \r\nQ 45.015625 0.34375 40.984375 -0.53125 \r\nQ 36.96875 -1.421875 32.421875 -1.421875 \r\nQ 20.0625 -1.421875 12.78125 6.34375 \r\nQ 5.515625 14.109375 5.515625 27.296875 \r\nQ 5.515625 40.671875 12.859375 48.328125 \r\nQ 20.21875 56 33.015625 56 \r\nQ 37.15625 56 41.109375 55.140625 \r\nQ 45.0625 54.296875 48.78125 52.59375 \r\nz\r\n\" id=\"DejaVuSans-99\"/>\r\n       <path d=\"M 9.421875 75.984375 \r\nL 18.40625 75.984375 \r\nL 18.40625 0 \r\nL 9.421875 0 \r\nz\r\n\" id=\"DejaVuSans-108\"/>\r\n      </defs>\r\n      <use xlink:href=\"#DejaVuSans-109\"/>\r\n      <use x=\"97.412109\" xlink:href=\"#DejaVuSans-101\"/>\r\n      <use x=\"158.935547\" xlink:href=\"#DejaVuSans-109\"/>\r\n      <use x=\"256.347656\" xlink:href=\"#DejaVuSans-98\"/>\r\n      <use x=\"319.824219\" xlink:href=\"#DejaVuSans-101\"/>\r\n      <use x=\"381.347656\" xlink:href=\"#DejaVuSans-114\"/>\r\n      <use x=\"422.460938\" xlink:href=\"#DejaVuSans-95\"/>\r\n      <use x=\"472.460938\" xlink:href=\"#DejaVuSans-99\"/>\r\n      <use x=\"527.441406\" xlink:href=\"#DejaVuSans-97\"/>\r\n      <use x=\"588.720703\" xlink:href=\"#DejaVuSans-115\"/>\r\n      <use x=\"640.820312\" xlink:href=\"#DejaVuSans-117\"/>\r\n      <use x=\"704.199219\" xlink:href=\"#DejaVuSans-97\"/>\r\n      <use x=\"765.478516\" xlink:href=\"#DejaVuSans-108\"/>\r\n     </g>\r\n    </g>\r\n    <g id=\"line2d_16\">\r\n     <path d=\"M 290.663281 35.254688 \r\nL 310.663281 35.254688 \r\n\" style=\"fill:none;stroke:#1f77b4;stroke-linecap:square;stroke-width:1.5;\"/>\r\n    </g>\r\n    <g id=\"line2d_17\"/>\r\n    <g id=\"text_12\">\r\n     <!-- casual -->\r\n     <g transform=\"translate(318.663281 38.754688)scale(0.1 -0.1)\">\r\n      <use xlink:href=\"#DejaVuSans-99\"/>\r\n      <use x=\"54.980469\" xlink:href=\"#DejaVuSans-97\"/>\r\n      <use x=\"116.259766\" xlink:href=\"#DejaVuSans-115\"/>\r\n      <use x=\"168.359375\" xlink:href=\"#DejaVuSans-117\"/>\r\n      <use x=\"231.738281\" xlink:href=\"#DejaVuSans-97\"/>\r\n      <use x=\"293.017578\" xlink:href=\"#DejaVuSans-108\"/>\r\n     </g>\r\n    </g>\r\n    <g id=\"line2d_18\">\r\n     <path d=\"M 290.663281 49.932813 \r\nL 310.663281 49.932813 \r\n\" style=\"fill:none;stroke:#ff7f0e;stroke-linecap:square;stroke-width:1.5;\"/>\r\n    </g>\r\n    <g id=\"line2d_19\"/>\r\n    <g id=\"text_13\">\r\n     <!-- member -->\r\n     <g transform=\"translate(318.663281 53.432813)scale(0.1 -0.1)\">\r\n      <use xlink:href=\"#DejaVuSans-109\"/>\r\n      <use x=\"97.412109\" xlink:href=\"#DejaVuSans-101\"/>\r\n      <use x=\"158.935547\" xlink:href=\"#DejaVuSans-109\"/>\r\n      <use x=\"256.347656\" xlink:href=\"#DejaVuSans-98\"/>\r\n      <use x=\"319.824219\" xlink:href=\"#DejaVuSans-101\"/>\r\n      <use x=\"381.347656\" xlink:href=\"#DejaVuSans-114\"/>\r\n     </g>\r\n    </g>\r\n   </g>\r\n  </g>\r\n </g>\r\n <defs>\r\n  <clipPath id=\"pc14c8e8d12\">\r\n   <rect height=\"217.44\" width=\"334.8\" x=\"39.65\" y=\"7.2\"/>\r\n  </clipPath>\r\n </defs>\r\n</svg>\r\n",
      "image/png": "[encoded data removed]"
     },
     "metadata": {
      "needs_background": "light"
     }
    }
   ],
   "source": [
    "df_plot.plot(kind='line', stacked=True);"
   ]
  },
  {
   "cell_type": "code",
   "execution_count": 24,
   "metadata": {},
   "outputs": [
    {
     "output_type": "display_data",
     "data": {
      "text/plain": "<Figure size 432x288 with 1 Axes>",
      "image/svg+xml": "<?xml version=\"1.0\" encoding=\"utf-8\" standalone=\"no\"?>\r\n<!DOCTYPE svg PUBLIC \"-//W3C//DTD SVG 1.1//EN\"\r\n  \"http://www.w3.org/Graphics/SVG/1.1/DTD/svg11.dtd\">\r\n<!-- Created with matplotlib (https://matplotlib.org/) -->\r\n<svg height=\"310.415pt\" version=\"1.1\" viewBox=\"0 0 381.65 310.415\" width=\"381.65pt\" xmlns=\"http://www.w3.org/2000/svg\" xmlns:xlink=\"http://www.w3.org/1999/xlink\">\r\n <metadata>\r\n  <rdf:RDF xmlns:cc=\"http://creativecommons.org/ns#\" xmlns:dc=\"http://purl.org/dc/elements/1.1/\" xmlns:rdf=\"http://www.w3.org/1999/02/22-rdf-syntax-ns#\">\r\n   <cc:Work>\r\n    <dc:type rdf:resource=\"http://purl.org/dc/dcmitype/StillImage\"/>\r\n    <dc:date>2021-03-08T11:54:10.826239</dc:date>\r\n    <dc:format>image/svg+xml</dc:format>\r\n    <dc:creator>\r\n     <cc:Agent>\r\n      <dc:title>Matplotlib v3.3.2, https://matplotlib.org/</dc:title>\r\n     </cc:Agent>\r\n    </dc:creator>\r\n   </cc:Work>\r\n  </rdf:RDF>\r\n </metadata>\r\n <defs>\r\n  <style type=\"text/css\">*{stroke-linecap:butt;stroke-linejoin:round;}</style>\r\n </defs>\r\n <g id=\"figure_1\">\r\n  <g id=\"patch_1\">\r\n   <path d=\"M -0 310.415 \r\nL 381.65 310.415 \r\nL 381.65 0 \r\nL -0 0 \r\nz\r\n\" style=\"fill:none;\"/>\r\n  </g>\r\n  <g id=\"axes_1\">\r\n   <g id=\"patch_2\">\r\n    <path d=\"M 39.65 224.64 \r\nL 374.45 224.64 \r\nL 374.45 7.2 \r\nL 39.65 7.2 \r\nz\r\n\" style=\"fill:#ffffff;\"/>\r\n   </g>\r\n   <g id=\"patch_3\">\r\n    <path clip-path=\"url(#pea9b35e2ef)\" d=\"M 56.39 224.64 \r\nL 89.87 224.64 \r\nL 89.87 115.434785 \r\nL 56.39 115.434785 \r\nz\r\n\" style=\"fill:#1f77b4;\"/>\r\n   </g>\r\n   <g id=\"patch_4\">\r\n    <path clip-path=\"url(#pea9b35e2ef)\" d=\"M 123.35 224.64 \r\nL 156.83 224.64 \r\nL 156.83 178.321549 \r\nL 123.35 178.321549 \r\nz\r\n\" style=\"fill:#1f77b4;\"/>\r\n   </g>\r\n   <g id=\"patch_5\">\r\n    <path clip-path=\"url(#pea9b35e2ef)\" d=\"M 190.31 224.64 \r\nL 223.79 224.64 \r\nL 223.79 147.624652 \r\nL 190.31 147.624652 \r\nz\r\n\" style=\"fill:#1f77b4;\"/>\r\n   </g>\r\n   <g id=\"patch_6\">\r\n    <path clip-path=\"url(#pea9b35e2ef)\" d=\"M 257.27 224.64 \r\nL 290.75 224.64 \r\nL 290.75 168.671872 \r\nL 257.27 168.671872 \r\nz\r\n\" style=\"fill:#1f77b4;\"/>\r\n   </g>\r\n   <g id=\"patch_7\">\r\n    <path clip-path=\"url(#pea9b35e2ef)\" d=\"M 324.23 224.64 \r\nL 357.71 224.64 \r\nL 357.71 166.851178 \r\nL 324.23 166.851178 \r\nz\r\n\" style=\"fill:#1f77b4;\"/>\r\n   </g>\r\n   <g id=\"patch_8\">\r\n    <path clip-path=\"url(#pea9b35e2ef)\" d=\"M 56.39 115.434785 \r\nL 89.87 115.434785 \r\nL 89.87 17.554286 \r\nL 56.39 17.554286 \r\nz\r\n\" style=\"fill:#ff7f0e;\"/>\r\n   </g>\r\n   <g id=\"patch_9\">\r\n    <path clip-path=\"url(#pea9b35e2ef)\" d=\"M 123.35 178.321549 \r\nL 156.83 178.321549 \r\nL 156.83 80.149739 \r\nL 123.35 80.149739 \r\nz\r\n\" style=\"fill:#ff7f0e;\"/>\r\n   </g>\r\n   <g id=\"patch_10\">\r\n    <path clip-path=\"url(#pea9b35e2ef)\" d=\"M 190.31 147.624652 \r\nL 223.79 147.624652 \r\nL 223.79 72.029445 \r\nL 190.31 72.029445 \r\nz\r\n\" style=\"fill:#ff7f0e;\"/>\r\n   </g>\r\n   <g id=\"patch_11\">\r\n    <path clip-path=\"url(#pea9b35e2ef)\" d=\"M 257.27 168.671872 \r\nL 290.75 168.671872 \r\nL 290.75 64.746669 \r\nL 257.27 64.746669 \r\nz\r\n\" style=\"fill:#ff7f0e;\"/>\r\n   </g>\r\n   <g id=\"patch_12\">\r\n    <path clip-path=\"url(#pea9b35e2ef)\" d=\"M 324.23 166.851178 \r\nL 357.71 166.851178 \r\nL 357.71 72.976205 \r\nL 324.23 72.976205 \r\nz\r\n\" style=\"fill:#ff7f0e;\"/>\r\n   </g>\r\n   <g id=\"matplotlib.axis_1\">\r\n    <g id=\"xtick_1\">\r\n     <g id=\"line2d_1\">\r\n      <defs>\r\n       <path d=\"M 0 0 \r\nL 0 3.5 \r\n\" id=\"m9710667adb\" style=\"stroke:#000000;stroke-width:0.8;\"/>\r\n      </defs>\r\n      <g>\r\n       <use style=\"stroke:#000000;stroke-width:0.8;\" x=\"73.13\" xlink:href=\"#m9710667adb\" y=\"224.64\"/>\r\n      </g>\r\n     </g>\r\n     <g id=\"text_1\">\r\n      <!-- Friday -->\r\n      <g transform=\"translate(75.889375 261.950937)rotate(-90)scale(0.1 -0.1)\">\r\n       <defs>\r\n        <path d=\"M 9.8125 72.90625 \r\nL 51.703125 72.90625 \r\nL 51.703125 64.59375 \r\nL 19.671875 64.59375 \r\nL 19.671875 43.109375 \r\nL 48.578125 43.109375 \r\nL 48.578125 34.8125 \r\nL 19.671875 34.8125 \r\nL 19.671875 0 \r\nL 9.8125 0 \r\nz\r\n\" id=\"DejaVuSans-70\"/>\r\n        <path d=\"M 41.109375 46.296875 \r\nQ 39.59375 47.171875 37.8125 47.578125 \r\nQ 36.03125 48 33.890625 48 \r\nQ 26.265625 48 22.1875 43.046875 \r\nQ 18.109375 38.09375 18.109375 28.8125 \r\nL 18.109375 0 \r\nL 9.078125 0 \r\nL 9.078125 54.6875 \r\nL 18.109375 54.6875 \r\nL 18.109375 46.1875 \r\nQ 20.953125 51.171875 25.484375 53.578125 \r\nQ 30.03125 56 36.53125 56 \r\nQ 37.453125 56 38.578125 55.875 \r\nQ 39.703125 55.765625 41.0625 55.515625 \r\nz\r\n\" id=\"DejaVuSans-114\"/>\r\n        <path d=\"M 9.421875 54.6875 \r\nL 18.40625 54.6875 \r\nL 18.40625 0 \r\nL 9.421875 0 \r\nz\r\nM 9.421875 75.984375 \r\nL 18.40625 75.984375 \r\nL 18.40625 64.59375 \r\nL 9.421875 64.59375 \r\nz\r\n\" id=\"DejaVuSans-105\"/>\r\n        <path d=\"M 45.40625 46.390625 \r\nL 45.40625 75.984375 \r\nL 54.390625 75.984375 \r\nL 54.390625 0 \r\nL 45.40625 0 \r\nL 45.40625 8.203125 \r\nQ 42.578125 3.328125 38.25 0.953125 \r\nQ 33.9375 -1.421875 27.875 -1.421875 \r\nQ 17.96875 -1.421875 11.734375 6.484375 \r\nQ 5.515625 14.40625 5.515625 27.296875 \r\nQ 5.515625 40.1875 11.734375 48.09375 \r\nQ 17.96875 56 27.875 56 \r\nQ 33.9375 56 38.25 53.625 \r\nQ 42.578125 51.265625 45.40625 46.390625 \r\nz\r\nM 14.796875 27.296875 \r\nQ 14.796875 17.390625 18.875 11.75 \r\nQ 22.953125 6.109375 30.078125 6.109375 \r\nQ 37.203125 6.109375 41.296875 11.75 \r\nQ 45.40625 17.390625 45.40625 27.296875 \r\nQ 45.40625 37.203125 41.296875 42.84375 \r\nQ 37.203125 48.484375 30.078125 48.484375 \r\nQ 22.953125 48.484375 18.875 42.84375 \r\nQ 14.796875 37.203125 14.796875 27.296875 \r\nz\r\n\" id=\"DejaVuSans-100\"/>\r\n        <path d=\"M 34.28125 27.484375 \r\nQ 23.390625 27.484375 19.1875 25 \r\nQ 14.984375 22.515625 14.984375 16.5 \r\nQ 14.984375 11.71875 18.140625 8.90625 \r\nQ 21.296875 6.109375 26.703125 6.109375 \r\nQ 34.1875 6.109375 38.703125 11.40625 \r\nQ 43.21875 16.703125 43.21875 25.484375 \r\nL 43.21875 27.484375 \r\nz\r\nM 52.203125 31.203125 \r\nL 52.203125 0 \r\nL 43.21875 0 \r\nL 43.21875 8.296875 \r\nQ 40.140625 3.328125 35.546875 0.953125 \r\nQ 30.953125 -1.421875 24.3125 -1.421875 \r\nQ 15.921875 -1.421875 10.953125 3.296875 \r\nQ 6 8.015625 6 15.921875 \r\nQ 6 25.140625 12.171875 29.828125 \r\nQ 18.359375 34.515625 30.609375 34.515625 \r\nL 43.21875 34.515625 \r\nL 43.21875 35.40625 \r\nQ 43.21875 41.609375 39.140625 45 \r\nQ 35.0625 48.390625 27.6875 48.390625 \r\nQ 23 48.390625 18.546875 47.265625 \r\nQ 14.109375 46.140625 10.015625 43.890625 \r\nL 10.015625 52.203125 \r\nQ 14.9375 54.109375 19.578125 55.046875 \r\nQ 24.21875 56 28.609375 56 \r\nQ 40.484375 56 46.34375 49.84375 \r\nQ 52.203125 43.703125 52.203125 31.203125 \r\nz\r\n\" id=\"DejaVuSans-97\"/>\r\n        <path d=\"M 32.171875 -5.078125 \r\nQ 28.375 -14.84375 24.75 -17.8125 \r\nQ 21.140625 -20.796875 15.09375 -20.796875 \r\nL 7.90625 -20.796875 \r\nL 7.90625 -13.28125 \r\nL 13.1875 -13.28125 \r\nQ 16.890625 -13.28125 18.9375 -11.515625 \r\nQ 21 -9.765625 23.484375 -3.21875 \r\nL 25.09375 0.875 \r\nL 2.984375 54.6875 \r\nL 12.5 54.6875 \r\nL 29.59375 11.921875 \r\nL 46.6875 54.6875 \r\nL 56.203125 54.6875 \r\nz\r\n\" id=\"DejaVuSans-121\"/>\r\n       </defs>\r\n       <use xlink:href=\"#DejaVuSans-70\"/>\r\n       <use x=\"50.269531\" xlink:href=\"#DejaVuSans-114\"/>\r\n       <use x=\"91.382812\" xlink:href=\"#DejaVuSans-105\"/>\r\n       <use x=\"119.166016\" xlink:href=\"#DejaVuSans-100\"/>\r\n       <use x=\"182.642578\" xlink:href=\"#DejaVuSans-97\"/>\r\n       <use x=\"243.921875\" xlink:href=\"#DejaVuSans-121\"/>\r\n      </g>\r\n     </g>\r\n    </g>\r\n    <g id=\"xtick_2\">\r\n     <g id=\"line2d_2\">\r\n      <g>\r\n       <use style=\"stroke:#000000;stroke-width:0.8;\" x=\"140.09\" xlink:href=\"#m9710667adb\" y=\"224.64\"/>\r\n      </g>\r\n     </g>\r\n     <g id=\"text_2\">\r\n      <!-- Monday -->\r\n      <g transform=\"translate(142.849375 271.119687)rotate(-90)scale(0.1 -0.1)\">\r\n       <defs>\r\n        <path d=\"M 9.8125 72.90625 \r\nL 24.515625 72.90625 \r\nL 43.109375 23.296875 \r\nL 61.8125 72.90625 \r\nL 76.515625 72.90625 \r\nL 76.515625 0 \r\nL 66.890625 0 \r\nL 66.890625 64.015625 \r\nL 48.09375 14.015625 \r\nL 38.1875 14.015625 \r\nL 19.390625 64.015625 \r\nL 19.390625 0 \r\nL 9.8125 0 \r\nz\r\n\" id=\"DejaVuSans-77\"/>\r\n        <path d=\"M 30.609375 48.390625 \r\nQ 23.390625 48.390625 19.1875 42.75 \r\nQ 14.984375 37.109375 14.984375 27.296875 \r\nQ 14.984375 17.484375 19.15625 11.84375 \r\nQ 23.34375 6.203125 30.609375 6.203125 \r\nQ 37.796875 6.203125 41.984375 11.859375 \r\nQ 46.1875 17.53125 46.1875 27.296875 \r\nQ 46.1875 37.015625 41.984375 42.703125 \r\nQ 37.796875 48.390625 30.609375 48.390625 \r\nz\r\nM 30.609375 56 \r\nQ 42.328125 56 49.015625 48.375 \r\nQ 55.71875 40.765625 55.71875 27.296875 \r\nQ 55.71875 13.875 49.015625 6.21875 \r\nQ 42.328125 -1.421875 30.609375 -1.421875 \r\nQ 18.84375 -1.421875 12.171875 6.21875 \r\nQ 5.515625 13.875 5.515625 27.296875 \r\nQ 5.515625 40.765625 12.171875 48.375 \r\nQ 18.84375 56 30.609375 56 \r\nz\r\n\" id=\"DejaVuSans-111\"/>\r\n        <path d=\"M 54.890625 33.015625 \r\nL 54.890625 0 \r\nL 45.90625 0 \r\nL 45.90625 32.71875 \r\nQ 45.90625 40.484375 42.875 44.328125 \r\nQ 39.84375 48.1875 33.796875 48.1875 \r\nQ 26.515625 48.1875 22.3125 43.546875 \r\nQ 18.109375 38.921875 18.109375 30.90625 \r\nL 18.109375 0 \r\nL 9.078125 0 \r\nL 9.078125 54.6875 \r\nL 18.109375 54.6875 \r\nL 18.109375 46.1875 \r\nQ 21.34375 51.125 25.703125 53.5625 \r\nQ 30.078125 56 35.796875 56 \r\nQ 45.21875 56 50.046875 50.171875 \r\nQ 54.890625 44.34375 54.890625 33.015625 \r\nz\r\n\" id=\"DejaVuSans-110\"/>\r\n       </defs>\r\n       <use xlink:href=\"#DejaVuSans-77\"/>\r\n       <use x=\"86.279297\" xlink:href=\"#DejaVuSans-111\"/>\r\n       <use x=\"147.460938\" xlink:href=\"#DejaVuSans-110\"/>\r\n       <use x=\"210.839844\" xlink:href=\"#DejaVuSans-100\"/>\r\n       <use x=\"274.316406\" xlink:href=\"#DejaVuSans-97\"/>\r\n       <use x=\"335.595703\" xlink:href=\"#DejaVuSans-121\"/>\r\n      </g>\r\n     </g>\r\n    </g>\r\n    <g id=\"xtick_3\">\r\n     <g id=\"line2d_3\">\r\n      <g>\r\n       <use style=\"stroke:#000000;stroke-width:0.8;\" x=\"207.05\" xlink:href=\"#m9710667adb\" y=\"224.64\"/>\r\n      </g>\r\n     </g>\r\n     <g id=\"text_3\">\r\n      <!-- Thursday -->\r\n      <g transform=\"translate(209.809375 278.138437)rotate(-90)scale(0.1 -0.1)\">\r\n       <defs>\r\n        <path d=\"M -0.296875 72.90625 \r\nL 61.375 72.90625 \r\nL 61.375 64.59375 \r\nL 35.5 64.59375 \r\nL 35.5 0 \r\nL 25.59375 0 \r\nL 25.59375 64.59375 \r\nL -0.296875 64.59375 \r\nz\r\n\" id=\"DejaVuSans-84\"/>\r\n        <path d=\"M 54.890625 33.015625 \r\nL 54.890625 0 \r\nL 45.90625 0 \r\nL 45.90625 32.71875 \r\nQ 45.90625 40.484375 42.875 44.328125 \r\nQ 39.84375 48.1875 33.796875 48.1875 \r\nQ 26.515625 48.1875 22.3125 43.546875 \r\nQ 18.109375 38.921875 18.109375 30.90625 \r\nL 18.109375 0 \r\nL 9.078125 0 \r\nL 9.078125 75.984375 \r\nL 18.109375 75.984375 \r\nL 18.109375 46.1875 \r\nQ 21.34375 51.125 25.703125 53.5625 \r\nQ 30.078125 56 35.796875 56 \r\nQ 45.21875 56 50.046875 50.171875 \r\nQ 54.890625 44.34375 54.890625 33.015625 \r\nz\r\n\" id=\"DejaVuSans-104\"/>\r\n        <path d=\"M 8.5 21.578125 \r\nL 8.5 54.6875 \r\nL 17.484375 54.6875 \r\nL 17.484375 21.921875 \r\nQ 17.484375 14.15625 20.5 10.265625 \r\nQ 23.53125 6.390625 29.59375 6.390625 \r\nQ 36.859375 6.390625 41.078125 11.03125 \r\nQ 45.3125 15.671875 45.3125 23.6875 \r\nL 45.3125 54.6875 \r\nL 54.296875 54.6875 \r\nL 54.296875 0 \r\nL 45.3125 0 \r\nL 45.3125 8.40625 \r\nQ 42.046875 3.421875 37.71875 1 \r\nQ 33.40625 -1.421875 27.6875 -1.421875 \r\nQ 18.265625 -1.421875 13.375 4.4375 \r\nQ 8.5 10.296875 8.5 21.578125 \r\nz\r\nM 31.109375 56 \r\nz\r\n\" id=\"DejaVuSans-117\"/>\r\n        <path d=\"M 44.28125 53.078125 \r\nL 44.28125 44.578125 \r\nQ 40.484375 46.53125 36.375 47.5 \r\nQ 32.28125 48.484375 27.875 48.484375 \r\nQ 21.1875 48.484375 17.84375 46.4375 \r\nQ 14.5 44.390625 14.5 40.28125 \r\nQ 14.5 37.15625 16.890625 35.375 \r\nQ 19.28125 33.59375 26.515625 31.984375 \r\nL 29.59375 31.296875 \r\nQ 39.15625 29.25 43.1875 25.515625 \r\nQ 47.21875 21.78125 47.21875 15.09375 \r\nQ 47.21875 7.46875 41.1875 3.015625 \r\nQ 35.15625 -1.421875 24.609375 -1.421875 \r\nQ 20.21875 -1.421875 15.453125 -0.5625 \r\nQ 10.6875 0.296875 5.421875 2 \r\nL 5.421875 11.28125 \r\nQ 10.40625 8.6875 15.234375 7.390625 \r\nQ 20.0625 6.109375 24.8125 6.109375 \r\nQ 31.15625 6.109375 34.5625 8.28125 \r\nQ 37.984375 10.453125 37.984375 14.40625 \r\nQ 37.984375 18.0625 35.515625 20.015625 \r\nQ 33.0625 21.96875 24.703125 23.78125 \r\nL 21.578125 24.515625 \r\nQ 13.234375 26.265625 9.515625 29.90625 \r\nQ 5.8125 33.546875 5.8125 39.890625 \r\nQ 5.8125 47.609375 11.28125 51.796875 \r\nQ 16.75 56 26.8125 56 \r\nQ 31.78125 56 36.171875 55.265625 \r\nQ 40.578125 54.546875 44.28125 53.078125 \r\nz\r\n\" id=\"DejaVuSans-115\"/>\r\n       </defs>\r\n       <use xlink:href=\"#DejaVuSans-84\"/>\r\n       <use x=\"61.083984\" xlink:href=\"#DejaVuSans-104\"/>\r\n       <use x=\"124.462891\" xlink:href=\"#DejaVuSans-117\"/>\r\n       <use x=\"187.841797\" xlink:href=\"#DejaVuSans-114\"/>\r\n       <use x=\"228.955078\" xlink:href=\"#DejaVuSans-115\"/>\r\n       <use x=\"281.054688\" xlink:href=\"#DejaVuSans-100\"/>\r\n       <use x=\"344.53125\" xlink:href=\"#DejaVuSans-97\"/>\r\n       <use x=\"405.810547\" xlink:href=\"#DejaVuSans-121\"/>\r\n      </g>\r\n     </g>\r\n    </g>\r\n    <g id=\"xtick_4\">\r\n     <g id=\"line2d_4\">\r\n      <g>\r\n       <use style=\"stroke:#000000;stroke-width:0.8;\" x=\"274.01\" xlink:href=\"#m9710667adb\" y=\"224.64\"/>\r\n      </g>\r\n     </g>\r\n     <g id=\"text_4\">\r\n      <!-- Tuesday -->\r\n      <g transform=\"translate(276.769375 272.330625)rotate(-90)scale(0.1 -0.1)\">\r\n       <defs>\r\n        <path d=\"M 56.203125 29.59375 \r\nL 56.203125 25.203125 \r\nL 14.890625 25.203125 \r\nQ 15.484375 15.921875 20.484375 11.0625 \r\nQ 25.484375 6.203125 34.421875 6.203125 \r\nQ 39.59375 6.203125 44.453125 7.46875 \r\nQ 49.3125 8.734375 54.109375 11.28125 \r\nL 54.109375 2.78125 \r\nQ 49.265625 0.734375 44.1875 -0.34375 \r\nQ 39.109375 -1.421875 33.890625 -1.421875 \r\nQ 20.796875 -1.421875 13.15625 6.1875 \r\nQ 5.515625 13.8125 5.515625 26.8125 \r\nQ 5.515625 40.234375 12.765625 48.109375 \r\nQ 20.015625 56 32.328125 56 \r\nQ 43.359375 56 49.78125 48.890625 \r\nQ 56.203125 41.796875 56.203125 29.59375 \r\nz\r\nM 47.21875 32.234375 \r\nQ 47.125 39.59375 43.09375 43.984375 \r\nQ 39.0625 48.390625 32.421875 48.390625 \r\nQ 24.90625 48.390625 20.390625 44.140625 \r\nQ 15.875 39.890625 15.1875 32.171875 \r\nz\r\n\" id=\"DejaVuSans-101\"/>\r\n       </defs>\r\n       <use xlink:href=\"#DejaVuSans-84\"/>\r\n       <use x=\"45.958984\" xlink:href=\"#DejaVuSans-117\"/>\r\n       <use x=\"109.337891\" xlink:href=\"#DejaVuSans-101\"/>\r\n       <use x=\"170.861328\" xlink:href=\"#DejaVuSans-115\"/>\r\n       <use x=\"222.960938\" xlink:href=\"#DejaVuSans-100\"/>\r\n       <use x=\"286.4375\" xlink:href=\"#DejaVuSans-97\"/>\r\n       <use x=\"347.716797\" xlink:href=\"#DejaVuSans-121\"/>\r\n      </g>\r\n     </g>\r\n    </g>\r\n    <g id=\"xtick_5\">\r\n     <g id=\"line2d_5\">\r\n      <g>\r\n       <use style=\"stroke:#000000;stroke-width:0.8;\" x=\"340.97\" xlink:href=\"#m9710667adb\" y=\"224.64\"/>\r\n      </g>\r\n     </g>\r\n     <g id=\"text_5\">\r\n      <!-- Wednesday -->\r\n      <g transform=\"translate(343.729375 289.536875)rotate(-90)scale(0.1 -0.1)\">\r\n       <defs>\r\n        <path d=\"M 3.328125 72.90625 \r\nL 13.28125 72.90625 \r\nL 28.609375 11.28125 \r\nL 43.890625 72.90625 \r\nL 54.984375 72.90625 \r\nL 70.3125 11.28125 \r\nL 85.59375 72.90625 \r\nL 95.609375 72.90625 \r\nL 77.296875 0 \r\nL 64.890625 0 \r\nL 49.515625 63.28125 \r\nL 33.984375 0 \r\nL 21.578125 0 \r\nz\r\n\" id=\"DejaVuSans-87\"/>\r\n       </defs>\r\n       <use xlink:href=\"#DejaVuSans-87\"/>\r\n       <use x=\"93.001953\" xlink:href=\"#DejaVuSans-101\"/>\r\n       <use x=\"154.525391\" xlink:href=\"#DejaVuSans-100\"/>\r\n       <use x=\"218.001953\" xlink:href=\"#DejaVuSans-110\"/>\r\n       <use x=\"281.380859\" xlink:href=\"#DejaVuSans-101\"/>\r\n       <use x=\"342.904297\" xlink:href=\"#DejaVuSans-115\"/>\r\n       <use x=\"395.003906\" xlink:href=\"#DejaVuSans-100\"/>\r\n       <use x=\"458.480469\" xlink:href=\"#DejaVuSans-97\"/>\r\n       <use x=\"519.759766\" xlink:href=\"#DejaVuSans-121\"/>\r\n      </g>\r\n     </g>\r\n    </g>\r\n    <g id=\"text_6\">\r\n     <!-- Day -->\r\n     <g transform=\"translate(197.176563 301.135312)scale(0.1 -0.1)\">\r\n      <defs>\r\n       <path d=\"M 19.671875 64.796875 \r\nL 19.671875 8.109375 \r\nL 31.59375 8.109375 \r\nQ 46.6875 8.109375 53.6875 14.9375 \r\nQ 60.6875 21.78125 60.6875 36.53125 \r\nQ 60.6875 51.171875 53.6875 57.984375 \r\nQ 46.6875 64.796875 31.59375 64.796875 \r\nz\r\nM 9.8125 72.90625 \r\nL 30.078125 72.90625 \r\nQ 51.265625 72.90625 61.171875 64.09375 \r\nQ 71.09375 55.28125 71.09375 36.53125 \r\nQ 71.09375 17.671875 61.125 8.828125 \r\nQ 51.171875 0 30.078125 0 \r\nL 9.8125 0 \r\nz\r\n\" id=\"DejaVuSans-68\"/>\r\n      </defs>\r\n      <use xlink:href=\"#DejaVuSans-68\"/>\r\n      <use x=\"77.001953\" xlink:href=\"#DejaVuSans-97\"/>\r\n      <use x=\"138.28125\" xlink:href=\"#DejaVuSans-121\"/>\r\n     </g>\r\n    </g>\r\n   </g>\r\n   <g id=\"matplotlib.axis_2\">\r\n    <g id=\"ytick_1\">\r\n     <g id=\"line2d_6\">\r\n      <defs>\r\n       <path d=\"M 0 0 \r\nL -3.5 0 \r\n\" id=\"m7e1e651d5a\" style=\"stroke:#000000;stroke-width:0.8;\"/>\r\n      </defs>\r\n      <g>\r\n       <use style=\"stroke:#000000;stroke-width:0.8;\" x=\"39.65\" xlink:href=\"#m7e1e651d5a\" y=\"224.64\"/>\r\n      </g>\r\n     </g>\r\n     <g id=\"text_7\">\r\n      <!-- 0 -->\r\n      <g transform=\"translate(26.2875 228.439219)scale(0.1 -0.1)\">\r\n       <defs>\r\n        <path d=\"M 31.78125 66.40625 \r\nQ 24.171875 66.40625 20.328125 58.90625 \r\nQ 16.5 51.421875 16.5 36.375 \r\nQ 16.5 21.390625 20.328125 13.890625 \r\nQ 24.171875 6.390625 31.78125 6.390625 \r\nQ 39.453125 6.390625 43.28125 13.890625 \r\nQ 47.125 21.390625 47.125 36.375 \r\nQ 47.125 51.421875 43.28125 58.90625 \r\nQ 39.453125 66.40625 31.78125 66.40625 \r\nz\r\nM 31.78125 74.21875 \r\nQ 44.046875 74.21875 50.515625 64.515625 \r\nQ 56.984375 54.828125 56.984375 36.375 \r\nQ 56.984375 17.96875 50.515625 8.265625 \r\nQ 44.046875 -1.421875 31.78125 -1.421875 \r\nQ 19.53125 -1.421875 13.0625 8.265625 \r\nQ 6.59375 17.96875 6.59375 36.375 \r\nQ 6.59375 54.828125 13.0625 64.515625 \r\nQ 19.53125 74.21875 31.78125 74.21875 \r\nz\r\n\" id=\"DejaVuSans-48\"/>\r\n       </defs>\r\n       <use xlink:href=\"#DejaVuSans-48\"/>\r\n      </g>\r\n     </g>\r\n    </g>\r\n    <g id=\"ytick_2\">\r\n     <g id=\"line2d_7\">\r\n      <g>\r\n       <use style=\"stroke:#000000;stroke-width:0.8;\" x=\"39.65\" xlink:href=\"#m7e1e651d5a\" y=\"188.226124\"/>\r\n      </g>\r\n     </g>\r\n     <g id=\"text_8\">\r\n      <!-- 1000 -->\r\n      <g transform=\"translate(7.2 192.025342)scale(0.1 -0.1)\">\r\n       <defs>\r\n        <path d=\"M 12.40625 8.296875 \r\nL 28.515625 8.296875 \r\nL 28.515625 63.921875 \r\nL 10.984375 60.40625 \r\nL 10.984375 69.390625 \r\nL 28.421875 72.90625 \r\nL 38.28125 72.90625 \r\nL 38.28125 8.296875 \r\nL 54.390625 8.296875 \r\nL 54.390625 0 \r\nL 12.40625 0 \r\nz\r\n\" id=\"DejaVuSans-49\"/>\r\n       </defs>\r\n       <use xlink:href=\"#DejaVuSans-49\"/>\r\n       <use x=\"63.623047\" xlink:href=\"#DejaVuSans-48\"/>\r\n       <use x=\"127.246094\" xlink:href=\"#DejaVuSans-48\"/>\r\n       <use x=\"190.869141\" xlink:href=\"#DejaVuSans-48\"/>\r\n      </g>\r\n     </g>\r\n    </g>\r\n    <g id=\"ytick_3\">\r\n     <g id=\"line2d_8\">\r\n      <g>\r\n       <use style=\"stroke:#000000;stroke-width:0.8;\" x=\"39.65\" xlink:href=\"#m7e1e651d5a\" y=\"151.812247\"/>\r\n      </g>\r\n     </g>\r\n     <g id=\"text_9\">\r\n      <!-- 2000 -->\r\n      <g transform=\"translate(7.2 155.611466)scale(0.1 -0.1)\">\r\n       <defs>\r\n        <path d=\"M 19.1875 8.296875 \r\nL 53.609375 8.296875 \r\nL 53.609375 0 \r\nL 7.328125 0 \r\nL 7.328125 8.296875 \r\nQ 12.9375 14.109375 22.625 23.890625 \r\nQ 32.328125 33.6875 34.8125 36.53125 \r\nQ 39.546875 41.84375 41.421875 45.53125 \r\nQ 43.3125 49.21875 43.3125 52.78125 \r\nQ 43.3125 58.59375 39.234375 62.25 \r\nQ 35.15625 65.921875 28.609375 65.921875 \r\nQ 23.96875 65.921875 18.8125 64.3125 \r\nQ 13.671875 62.703125 7.8125 59.421875 \r\nL 7.8125 69.390625 \r\nQ 13.765625 71.78125 18.9375 73 \r\nQ 24.125 74.21875 28.421875 74.21875 \r\nQ 39.75 74.21875 46.484375 68.546875 \r\nQ 53.21875 62.890625 53.21875 53.421875 \r\nQ 53.21875 48.921875 51.53125 44.890625 \r\nQ 49.859375 40.875 45.40625 35.40625 \r\nQ 44.1875 33.984375 37.640625 27.21875 \r\nQ 31.109375 20.453125 19.1875 8.296875 \r\nz\r\n\" id=\"DejaVuSans-50\"/>\r\n       </defs>\r\n       <use xlink:href=\"#DejaVuSans-50\"/>\r\n       <use x=\"63.623047\" xlink:href=\"#DejaVuSans-48\"/>\r\n       <use x=\"127.246094\" xlink:href=\"#DejaVuSans-48\"/>\r\n       <use x=\"190.869141\" xlink:href=\"#DejaVuSans-48\"/>\r\n      </g>\r\n     </g>\r\n    </g>\r\n    <g id=\"ytick_4\">\r\n     <g id=\"line2d_9\">\r\n      <g>\r\n       <use style=\"stroke:#000000;stroke-width:0.8;\" x=\"39.65\" xlink:href=\"#m7e1e651d5a\" y=\"115.398371\"/>\r\n      </g>\r\n     </g>\r\n     <g id=\"text_10\">\r\n      <!-- 3000 -->\r\n      <g transform=\"translate(7.2 119.19759)scale(0.1 -0.1)\">\r\n       <defs>\r\n        <path d=\"M 40.578125 39.3125 \r\nQ 47.65625 37.796875 51.625 33 \r\nQ 55.609375 28.21875 55.609375 21.1875 \r\nQ 55.609375 10.40625 48.1875 4.484375 \r\nQ 40.765625 -1.421875 27.09375 -1.421875 \r\nQ 22.515625 -1.421875 17.65625 -0.515625 \r\nQ 12.796875 0.390625 7.625 2.203125 \r\nL 7.625 11.71875 \r\nQ 11.71875 9.328125 16.59375 8.109375 \r\nQ 21.484375 6.890625 26.8125 6.890625 \r\nQ 36.078125 6.890625 40.9375 10.546875 \r\nQ 45.796875 14.203125 45.796875 21.1875 \r\nQ 45.796875 27.640625 41.28125 31.265625 \r\nQ 36.765625 34.90625 28.71875 34.90625 \r\nL 20.21875 34.90625 \r\nL 20.21875 43.015625 \r\nL 29.109375 43.015625 \r\nQ 36.375 43.015625 40.234375 45.921875 \r\nQ 44.09375 48.828125 44.09375 54.296875 \r\nQ 44.09375 59.90625 40.109375 62.90625 \r\nQ 36.140625 65.921875 28.71875 65.921875 \r\nQ 24.65625 65.921875 20.015625 65.03125 \r\nQ 15.375 64.15625 9.8125 62.3125 \r\nL 9.8125 71.09375 \r\nQ 15.4375 72.65625 20.34375 73.4375 \r\nQ 25.25 74.21875 29.59375 74.21875 \r\nQ 40.828125 74.21875 47.359375 69.109375 \r\nQ 53.90625 64.015625 53.90625 55.328125 \r\nQ 53.90625 49.265625 50.4375 45.09375 \r\nQ 46.96875 40.921875 40.578125 39.3125 \r\nz\r\n\" id=\"DejaVuSans-51\"/>\r\n       </defs>\r\n       <use xlink:href=\"#DejaVuSans-51\"/>\r\n       <use x=\"63.623047\" xlink:href=\"#DejaVuSans-48\"/>\r\n       <use x=\"127.246094\" xlink:href=\"#DejaVuSans-48\"/>\r\n       <use x=\"190.869141\" xlink:href=\"#DejaVuSans-48\"/>\r\n      </g>\r\n     </g>\r\n    </g>\r\n    <g id=\"ytick_5\">\r\n     <g id=\"line2d_10\">\r\n      <g>\r\n       <use style=\"stroke:#000000;stroke-width:0.8;\" x=\"39.65\" xlink:href=\"#m7e1e651d5a\" y=\"78.984495\"/>\r\n      </g>\r\n     </g>\r\n     <g id=\"text_11\">\r\n      <!-- 4000 -->\r\n      <g transform=\"translate(7.2 82.783714)scale(0.1 -0.1)\">\r\n       <defs>\r\n        <path d=\"M 37.796875 64.3125 \r\nL 12.890625 25.390625 \r\nL 37.796875 25.390625 \r\nz\r\nM 35.203125 72.90625 \r\nL 47.609375 72.90625 \r\nL 47.609375 25.390625 \r\nL 58.015625 25.390625 \r\nL 58.015625 17.1875 \r\nL 47.609375 17.1875 \r\nL 47.609375 0 \r\nL 37.796875 0 \r\nL 37.796875 17.1875 \r\nL 4.890625 17.1875 \r\nL 4.890625 26.703125 \r\nz\r\n\" id=\"DejaVuSans-52\"/>\r\n       </defs>\r\n       <use xlink:href=\"#DejaVuSans-52\"/>\r\n       <use x=\"63.623047\" xlink:href=\"#DejaVuSans-48\"/>\r\n       <use x=\"127.246094\" xlink:href=\"#DejaVuSans-48\"/>\r\n       <use x=\"190.869141\" xlink:href=\"#DejaVuSans-48\"/>\r\n      </g>\r\n     </g>\r\n    </g>\r\n    <g id=\"ytick_6\">\r\n     <g id=\"line2d_11\">\r\n      <g>\r\n       <use style=\"stroke:#000000;stroke-width:0.8;\" x=\"39.65\" xlink:href=\"#m7e1e651d5a\" y=\"42.570619\"/>\r\n      </g>\r\n     </g>\r\n     <g id=\"text_12\">\r\n      <!-- 5000 -->\r\n      <g transform=\"translate(7.2 46.369837)scale(0.1 -0.1)\">\r\n       <defs>\r\n        <path d=\"M 10.796875 72.90625 \r\nL 49.515625 72.90625 \r\nL 49.515625 64.59375 \r\nL 19.828125 64.59375 \r\nL 19.828125 46.734375 \r\nQ 21.96875 47.46875 24.109375 47.828125 \r\nQ 26.265625 48.1875 28.421875 48.1875 \r\nQ 40.625 48.1875 47.75 41.5 \r\nQ 54.890625 34.8125 54.890625 23.390625 \r\nQ 54.890625 11.625 47.5625 5.09375 \r\nQ 40.234375 -1.421875 26.90625 -1.421875 \r\nQ 22.3125 -1.421875 17.546875 -0.640625 \r\nQ 12.796875 0.140625 7.71875 1.703125 \r\nL 7.71875 11.625 \r\nQ 12.109375 9.234375 16.796875 8.0625 \r\nQ 21.484375 6.890625 26.703125 6.890625 \r\nQ 35.15625 6.890625 40.078125 11.328125 \r\nQ 45.015625 15.765625 45.015625 23.390625 \r\nQ 45.015625 31 40.078125 35.4375 \r\nQ 35.15625 39.890625 26.703125 39.890625 \r\nQ 22.75 39.890625 18.8125 39.015625 \r\nQ 14.890625 38.140625 10.796875 36.28125 \r\nz\r\n\" id=\"DejaVuSans-53\"/>\r\n       </defs>\r\n       <use xlink:href=\"#DejaVuSans-53\"/>\r\n       <use x=\"63.623047\" xlink:href=\"#DejaVuSans-48\"/>\r\n       <use x=\"127.246094\" xlink:href=\"#DejaVuSans-48\"/>\r\n       <use x=\"190.869141\" xlink:href=\"#DejaVuSans-48\"/>\r\n      </g>\r\n     </g>\r\n    </g>\r\n   </g>\r\n   <g id=\"patch_13\">\r\n    <path d=\"M 39.65 224.64 \r\nL 39.65 7.2 \r\n\" style=\"fill:none;stroke:#000000;stroke-linecap:square;stroke-linejoin:miter;stroke-width:0.8;\"/>\r\n   </g>\r\n   <g id=\"patch_14\">\r\n    <path d=\"M 374.45 224.64 \r\nL 374.45 7.2 \r\n\" style=\"fill:none;stroke:#000000;stroke-linecap:square;stroke-linejoin:miter;stroke-width:0.8;\"/>\r\n   </g>\r\n   <g id=\"patch_15\">\r\n    <path d=\"M 39.65 224.64 \r\nL 374.45 224.64 \r\n\" style=\"fill:none;stroke:#000000;stroke-linecap:square;stroke-linejoin:miter;stroke-width:0.8;\"/>\r\n   </g>\r\n   <g id=\"patch_16\">\r\n    <path d=\"M 39.65 7.2 \r\nL 374.45 7.2 \r\n\" style=\"fill:none;stroke:#000000;stroke-linecap:square;stroke-linejoin:miter;stroke-width:0.8;\"/>\r\n   </g>\r\n   <g id=\"legend_1\">\r\n    <g id=\"patch_17\">\r\n     <path d=\"M 284.123438 59.5125 \r\nL 367.45 59.5125 \r\nQ 369.45 59.5125 369.45 57.5125 \r\nL 369.45 14.2 \r\nQ 369.45 12.2 367.45 12.2 \r\nL 284.123438 12.2 \r\nQ 282.123438 12.2 282.123438 14.2 \r\nL 282.123438 57.5125 \r\nQ 282.123438 59.5125 284.123438 59.5125 \r\nz\r\n\" style=\"fill:#ffffff;opacity:0.8;stroke:#cccccc;stroke-linejoin:miter;\"/>\r\n    </g>\r\n    <g id=\"text_13\">\r\n     <!-- member_casual -->\r\n     <g transform=\"translate(286.123438 23.798437)scale(0.1 -0.1)\">\r\n      <defs>\r\n       <path d=\"M 52 44.1875 \r\nQ 55.375 50.25 60.0625 53.125 \r\nQ 64.75 56 71.09375 56 \r\nQ 79.640625 56 84.28125 50.015625 \r\nQ 88.921875 44.046875 88.921875 33.015625 \r\nL 88.921875 0 \r\nL 79.890625 0 \r\nL 79.890625 32.71875 \r\nQ 79.890625 40.578125 77.09375 44.375 \r\nQ 74.3125 48.1875 68.609375 48.1875 \r\nQ 61.625 48.1875 57.5625 43.546875 \r\nQ 53.515625 38.921875 53.515625 30.90625 \r\nL 53.515625 0 \r\nL 44.484375 0 \r\nL 44.484375 32.71875 \r\nQ 44.484375 40.625 41.703125 44.40625 \r\nQ 38.921875 48.1875 33.109375 48.1875 \r\nQ 26.21875 48.1875 22.15625 43.53125 \r\nQ 18.109375 38.875 18.109375 30.90625 \r\nL 18.109375 0 \r\nL 9.078125 0 \r\nL 9.078125 54.6875 \r\nL 18.109375 54.6875 \r\nL 18.109375 46.1875 \r\nQ 21.1875 51.21875 25.484375 53.609375 \r\nQ 29.78125 56 35.6875 56 \r\nQ 41.65625 56 45.828125 52.96875 \r\nQ 50 49.953125 52 44.1875 \r\nz\r\n\" id=\"DejaVuSans-109\"/>\r\n       <path d=\"M 48.6875 27.296875 \r\nQ 48.6875 37.203125 44.609375 42.84375 \r\nQ 40.53125 48.484375 33.40625 48.484375 \r\nQ 26.265625 48.484375 22.1875 42.84375 \r\nQ 18.109375 37.203125 18.109375 27.296875 \r\nQ 18.109375 17.390625 22.1875 11.75 \r\nQ 26.265625 6.109375 33.40625 6.109375 \r\nQ 40.53125 6.109375 44.609375 11.75 \r\nQ 48.6875 17.390625 48.6875 27.296875 \r\nz\r\nM 18.109375 46.390625 \r\nQ 20.953125 51.265625 25.265625 53.625 \r\nQ 29.59375 56 35.59375 56 \r\nQ 45.5625 56 51.78125 48.09375 \r\nQ 58.015625 40.1875 58.015625 27.296875 \r\nQ 58.015625 14.40625 51.78125 6.484375 \r\nQ 45.5625 -1.421875 35.59375 -1.421875 \r\nQ 29.59375 -1.421875 25.265625 0.953125 \r\nQ 20.953125 3.328125 18.109375 8.203125 \r\nL 18.109375 0 \r\nL 9.078125 0 \r\nL 9.078125 75.984375 \r\nL 18.109375 75.984375 \r\nz\r\n\" id=\"DejaVuSans-98\"/>\r\n       <path d=\"M 50.984375 -16.609375 \r\nL 50.984375 -23.578125 \r\nL -0.984375 -23.578125 \r\nL -0.984375 -16.609375 \r\nz\r\n\" id=\"DejaVuSans-95\"/>\r\n       <path d=\"M 48.78125 52.59375 \r\nL 48.78125 44.1875 \r\nQ 44.96875 46.296875 41.140625 47.34375 \r\nQ 37.3125 48.390625 33.40625 48.390625 \r\nQ 24.65625 48.390625 19.8125 42.84375 \r\nQ 14.984375 37.3125 14.984375 27.296875 \r\nQ 14.984375 17.28125 19.8125 11.734375 \r\nQ 24.65625 6.203125 33.40625 6.203125 \r\nQ 37.3125 6.203125 41.140625 7.25 \r\nQ 44.96875 8.296875 48.78125 10.40625 \r\nL 48.78125 2.09375 \r\nQ 45.015625 0.34375 40.984375 -0.53125 \r\nQ 36.96875 -1.421875 32.421875 -1.421875 \r\nQ 20.0625 -1.421875 12.78125 6.34375 \r\nQ 5.515625 14.109375 5.515625 27.296875 \r\nQ 5.515625 40.671875 12.859375 48.328125 \r\nQ 20.21875 56 33.015625 56 \r\nQ 37.15625 56 41.109375 55.140625 \r\nQ 45.0625 54.296875 48.78125 52.59375 \r\nz\r\n\" id=\"DejaVuSans-99\"/>\r\n       <path d=\"M 9.421875 75.984375 \r\nL 18.40625 75.984375 \r\nL 18.40625 0 \r\nL 9.421875 0 \r\nz\r\n\" id=\"DejaVuSans-108\"/>\r\n      </defs>\r\n      <use xlink:href=\"#DejaVuSans-109\"/>\r\n      <use x=\"97.412109\" xlink:href=\"#DejaVuSans-101\"/>\r\n      <use x=\"158.935547\" xlink:href=\"#DejaVuSans-109\"/>\r\n      <use x=\"256.347656\" xlink:href=\"#DejaVuSans-98\"/>\r\n      <use x=\"319.824219\" xlink:href=\"#DejaVuSans-101\"/>\r\n      <use x=\"381.347656\" xlink:href=\"#DejaVuSans-114\"/>\r\n      <use x=\"422.460938\" xlink:href=\"#DejaVuSans-95\"/>\r\n      <use x=\"472.460938\" xlink:href=\"#DejaVuSans-99\"/>\r\n      <use x=\"527.441406\" xlink:href=\"#DejaVuSans-97\"/>\r\n      <use x=\"588.720703\" xlink:href=\"#DejaVuSans-115\"/>\r\n      <use x=\"640.820312\" xlink:href=\"#DejaVuSans-117\"/>\r\n      <use x=\"704.199219\" xlink:href=\"#DejaVuSans-97\"/>\r\n      <use x=\"765.478516\" xlink:href=\"#DejaVuSans-108\"/>\r\n     </g>\r\n    </g>\r\n    <g id=\"patch_18\">\r\n     <path d=\"M 290.663281 38.754687 \r\nL 310.663281 38.754687 \r\nL 310.663281 31.754687 \r\nL 290.663281 31.754687 \r\nz\r\n\" style=\"fill:#1f77b4;\"/>\r\n    </g>\r\n    <g id=\"text_14\">\r\n     <!-- casual -->\r\n     <g transform=\"translate(318.663281 38.754687)scale(0.1 -0.1)\">\r\n      <use xlink:href=\"#DejaVuSans-99\"/>\r\n      <use x=\"54.980469\" xlink:href=\"#DejaVuSans-97\"/>\r\n      <use x=\"116.259766\" xlink:href=\"#DejaVuSans-115\"/>\r\n      <use x=\"168.359375\" xlink:href=\"#DejaVuSans-117\"/>\r\n      <use x=\"231.738281\" xlink:href=\"#DejaVuSans-97\"/>\r\n      <use x=\"293.017578\" xlink:href=\"#DejaVuSans-108\"/>\r\n     </g>\r\n    </g>\r\n    <g id=\"patch_19\">\r\n     <path d=\"M 290.663281 53.432813 \r\nL 310.663281 53.432813 \r\nL 310.663281 46.432813 \r\nL 290.663281 46.432813 \r\nz\r\n\" style=\"fill:#ff7f0e;\"/>\r\n    </g>\r\n    <g id=\"text_15\">\r\n     <!-- member -->\r\n     <g transform=\"translate(318.663281 53.432813)scale(0.1 -0.1)\">\r\n      <use xlink:href=\"#DejaVuSans-109\"/>\r\n      <use x=\"97.412109\" xlink:href=\"#DejaVuSans-101\"/>\r\n      <use x=\"158.935547\" xlink:href=\"#DejaVuSans-109\"/>\r\n      <use x=\"256.347656\" xlink:href=\"#DejaVuSans-98\"/>\r\n      <use x=\"319.824219\" xlink:href=\"#DejaVuSans-101\"/>\r\n      <use x=\"381.347656\" xlink:href=\"#DejaVuSans-114\"/>\r\n     </g>\r\n    </g>\r\n   </g>\r\n  </g>\r\n </g>\r\n <defs>\r\n  <clipPath id=\"pea9b35e2ef\">\r\n   <rect height=\"217.44\" width=\"334.8\" x=\"39.65\" y=\"7.2\"/>\r\n  </clipPath>\r\n </defs>\r\n</svg>\r\n",
      "image/png": "[encoded data removed]"
     },
     "metadata": {
      "needs_background": "light"
     }
    }
   ],
   "source": [
    "df_plot.plot(kind='bar', stacked=True);"
   ]
  }
 ]
}